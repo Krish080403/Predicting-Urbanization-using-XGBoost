{
  "cells": [
    {
      "cell_type": "markdown",
      "metadata": {
        "id": "view-in-github",
        "colab_type": "text"
      },
      "source": [
        "<a href=\"https://colab.research.google.com/github/Krish080403/Predicting-Urbanization-using-XGBoost/blob/main/XGBoost_using_dataframe.ipynb\" target=\"_parent\"><img src=\"https://colab.research.google.com/assets/colab-badge.svg\" alt=\"Open In Colab\"/></a>"
      ]
    },
    {
      "cell_type": "code",
      "execution_count": null,
      "metadata": {
        "id": "feGwrtdTMNi_",
        "colab": {
          "base_uri": "https://localhost:8080/"
        },
        "outputId": "e643c1ca-964f-4355-e56f-56736ecaf7bc"
      },
      "outputs": [
        {
          "output_type": "stream",
          "name": "stdout",
          "text": [
            "Requirement already satisfied: gdal in /usr/local/lib/python3.10/dist-packages (3.3.2)\n"
          ]
        }
      ],
      "source": [
        "%pip install gdal"
      ]
    },
    {
      "cell_type": "code",
      "execution_count": null,
      "metadata": {
        "id": "31J_A2ytMPDx"
      },
      "outputs": [],
      "source": [
        "from osgeo import gdal\n",
        "from xgboost import XGBRegressor\n",
        "import pandas as pd\n",
        "import numpy as np\n",
        "import matplotlib.pyplot as plt\n",
        "from sklearn import tree\n",
        "from sklearn.model_selection import train_test_split\n",
        "from sklearn.tree import DecisionTreeRegressor\n",
        "import matplotlib.pyplot as plt\n",
        "import seaborn as sns"
      ]
    },
    {
      "cell_type": "code",
      "source": [
        "def addNaNRow(input_array):\n",
        "    new_row = np.empty((1, input_array.shape[1]))\n",
        "    new_row[:] = np.nan\n",
        "    input_array = np.append(input_array, new_row, axis=0)\n",
        "\n",
        "    return input_array\n",
        "\n",
        "\n",
        "def addNaNCol(input_array):\n",
        "    new_col = np.empty((input_array.shape[0], 1))\n",
        "    new_col[:] = np.nan\n",
        "    input_array = np.append(input_array, new_col, axis=1)\n",
        "\n",
        "    return input_array"
      ],
      "metadata": {
        "id": "uHOnTUEq9AJN"
      },
      "execution_count": null,
      "outputs": []
    },
    {
      "cell_type": "code",
      "source": [
        "pathname = '/content/drive/MyDrive/AdjustedData_23_metre_Resolution/'"
      ],
      "metadata": {
        "id": "qROzxbRo1icr"
      },
      "execution_count": null,
      "outputs": []
    },
    {
      "cell_type": "code",
      "execution_count": null,
      "metadata": {
        "id": "7ih3cwrrO1Bu"
      },
      "outputs": [],
      "source": [
        "# All features in X imported and read as Array\n",
        "\n",
        "popden = gdal.Open(pathname+\"popden.tif\")\n",
        "popden = popden.ReadAsArray()\n",
        "popden = np.where(popden < 0 , np.nan, popden)\n",
        "popden = addNaNRow(popden)\n",
        "popden = addNaNCol(popden)\n",
        "\n",
        "(l,w) = popden.shape\n",
        "popden = np.reshape(popden, (l*w,1))"
      ]
    },
    {
      "cell_type": "code",
      "execution_count": null,
      "metadata": {
        "id": "FwmTmlfuMN5y"
      },
      "outputs": [],
      "source": [
        "Slope = gdal.Open(pathname+\"slope.tif\")\n",
        "Slope = Slope.ReadAsArray()\n",
        "Slope = np.where(Slope < 0, np.nan, Slope)\n",
        "Slope = np.reshape(Slope, (l*w,1))"
      ]
    },
    {
      "cell_type": "code",
      "execution_count": null,
      "metadata": {
        "id": "2t9O9sy1Miu1"
      },
      "outputs": [],
      "source": [
        "Friction = gdal.Open(pathname+\"friction.tif\")\n",
        "Friction = Friction.ReadAsArray()\n",
        "Friction = np.where(Friction < 0 , np.nan, Friction)\n",
        "Friction = np.reshape(Friction, (l*w,1))"
      ]
    },
    {
      "cell_type": "code",
      "execution_count": null,
      "metadata": {
        "id": "4nb2q3fxMoM0"
      },
      "outputs": [],
      "source": [
        "Elevation = gdal.Open(pathname+\"elevation.tif\")\n",
        "Elevation = Elevation.ReadAsArray()\n",
        "Elevation = np.where(Elevation < 0 , np.nan, Elevation)\n",
        "Elevation = np.reshape(Elevation, (l*w,1))"
      ]
    },
    {
      "cell_type": "code",
      "execution_count": null,
      "metadata": {
        "id": "AphX38_RMrUh"
      },
      "outputs": [],
      "source": [
        "gdp2005 = gdal.Open(pathname+\"gdp2005.tif\")\n",
        "gdp2005 = gdp2005.ReadAsArray()\n",
        "gdp2005 = np.where(gdp2005 < 0 , np.nan, gdp2005)\n",
        "gdp2005 = np.reshape(gdp2005, (l*w,1))"
      ]
    },
    {
      "cell_type": "code",
      "source": [
        "gdp2011 = gdal.Open(pathname+\"gdp2011.tif\")\n",
        "gdp2011 = gdp2011.ReadAsArray()\n",
        "gdp2011 = np.where(gdp2011 < 0 , np.nan, gdp2011)"
      ],
      "metadata": {
        "id": "8cvm-Wd63llP"
      },
      "execution_count": null,
      "outputs": []
    },
    {
      "cell_type": "code",
      "source": [
        "gdp2015 = gdal.Open(pathname+\"gdp2015.tif\")\n",
        "gdp2015 = gdp2015.ReadAsArray()\n",
        "gdp2015 = np.where(gdp2015 < 0 , np.nan, gdp2015)"
      ],
      "metadata": {
        "id": "EKGV3CYB3oJz"
      },
      "execution_count": null,
      "outputs": []
    },
    {
      "cell_type": "code",
      "execution_count": null,
      "metadata": {
        "id": "tHcJhEJNMzT-"
      },
      "outputs": [],
      "source": [
        "floods = gdal.Open(pathname+\"floods.tif\")\n",
        "floods = floods.ReadAsArray()\n",
        "floods = np.where(floods < 0 , np.nan, floods)\n",
        "floods = np.reshape(floods, (l*w,1))"
      ]
    },
    {
      "cell_type": "code",
      "execution_count": null,
      "metadata": {
        "id": "hOzqBRr3M2Yj"
      },
      "outputs": [],
      "source": [
        "accessibility = gdal.Open(pathname+\"accessibilty.tif\")\n",
        "accessibility = accessibility.ReadAsArray()\n",
        "accessibility = np.where(accessibility < 0 , np.nan, accessibility)\n",
        "accessibility = np.reshape(accessibility, (l*w,1))"
      ]
    },
    {
      "cell_type": "code",
      "source": [
        "Temp2005 = gdal.Open(pathname+\"Temp_2005.tif\")\n",
        "Temp2005 = Temp2005.ReadAsArray()\n",
        "Temp2005 = addNaNRow(Temp2005)\n",
        "Temp2005 = np.where(Temp2005 < 0 , np.nan, Temp2005)\n",
        "Temp2005 = np.reshape(Temp2005, (l*w,1))"
      ],
      "metadata": {
        "id": "q2vL_hiP2g4c"
      },
      "execution_count": null,
      "outputs": []
    },
    {
      "cell_type": "code",
      "execution_count": null,
      "metadata": {
        "id": "lhArb_JyCDsz"
      },
      "outputs": [],
      "source": [
        "Temp2011 = gdal.Open(pathname+\"Temp_2011.tif\")\n",
        "Temp2011 = Temp2011.ReadAsArray()\n",
        "Temp2011 = addNaNRow(Temp2011)\n",
        "Temp2011 = np.where(Temp2011 < 0 , np.nan, Temp2011)\n",
        "Temp2011 = np.reshape(Temp2011, (l*w,1))"
      ]
    },
    {
      "cell_type": "code",
      "source": [
        "Temp2015 = gdal.Open(pathname+\"Temp_2015.tif\")\n",
        "Temp2015 = Temp2015.ReadAsArray()\n",
        "Temp2015 = addNaNRow(Temp2015)\n",
        "Temp2015 = np.where(Temp2015 < 0 , np.nan, Temp2015)\n",
        "Temp2015 = np.reshape(Temp2015, (l*w,1))"
      ],
      "metadata": {
        "id": "q-Vjy0YC26Aw"
      },
      "execution_count": null,
      "outputs": []
    },
    {
      "cell_type": "code",
      "source": [
        "Temp2020 = gdal.Open(pathname+\"Temp_2020.tif\")\n",
        "Temp2020 = Temp2020.ReadAsArray()\n",
        "Temp2020 = addNaNRow(Temp2020)\n",
        "Temp2020 = np.where(Temp2020 < 0 , np.nan, Temp2020)\n",
        "Temp2020 = np.reshape(Temp2020, (l*w,1))"
      ],
      "metadata": {
        "id": "vdjU69I5XIxY"
      },
      "execution_count": null,
      "outputs": []
    },
    {
      "cell_type": "code",
      "execution_count": null,
      "metadata": {
        "id": "sxqwgZ1ONBYN"
      },
      "outputs": [],
      "source": [
        "builtup_05_06 = gdal.Open(pathname+\"05_06_builtup.tif\")\n",
        "builtup_05_06 = builtup_05_06.ReadAsArray()\n",
        "builtup_05_06 = np.where(builtup_05_06 < 0 , np.nan, builtup_05_06)\n",
        "builtup_05_06 = np.reshape(builtup_05_06, (l*w,1))"
      ]
    },
    {
      "cell_type": "code",
      "execution_count": null,
      "metadata": {
        "id": "W16pi_z_24Of"
      },
      "outputs": [],
      "source": [
        "builtup_11_12 = gdal.Open(pathname+\"11_12_builtup_some.tif\")\n",
        "builtup_11_12 = builtup_11_12.ReadAsArray()\n",
        "builtup_11_12 = np.where(builtup_11_12 < 0 , np.nan, builtup_11_12)\n",
        "builtup_11_12 = np.reshape(builtup_11_12, (l*w,1))"
      ]
    },
    {
      "cell_type": "code",
      "execution_count": null,
      "metadata": {
        "id": "ibCKH_8D3AxU"
      },
      "outputs": [],
      "source": [
        "builtup_15_16 = gdal.Open(pathname+\"15_16_builtup.tif\")\n",
        "builtup_15_16 = builtup_15_16.ReadAsArray()\n",
        "builtup_15_16 = np.where(builtup_15_16 < 0 , np.nan, builtup_15_16)\n",
        "builtup_15_16 = np.reshape(builtup_15_16, (l*w,1))"
      ]
    },
    {
      "cell_type": "code",
      "source": [
        "builtup_20_21 = gdal.Open(pathname+\"20_21_builtup.tif\")\n",
        "builtup_20_21 = builtup_20_21.ReadAsArray()\n",
        "builtup_20_21 = np.where(builtup_20_21 < 0 , np.nan, builtup_20_21)\n",
        "builtup_20_21 = addNaNCol(builtup_20_21)\n",
        "builtup_20_21 = np.reshape(builtup_20_21, (l*w,1))"
      ],
      "metadata": {
        "id": "KAb5AoZ7739-"
      },
      "execution_count": null,
      "outputs": []
    },
    {
      "cell_type": "code",
      "execution_count": null,
      "metadata": {
        "id": "MyEKSThZddsV"
      },
      "outputs": [],
      "source": [
        "#Opening and Reading Y data\n",
        "# Subtracted Maps\n",
        "Subtracted_Urban_11_05_data = gdal.Open(pathname+\"Sub_11-05.tif\")\n",
        "Subtracted_Urban_11_05 = Subtracted_Urban_11_05_data.ReadAsArray()\n",
        "Subtracted_Urban_11_05 = np.where(Subtracted_Urban_11_05 < 0 , 0, Subtracted_Urban_11_05)\n",
        "Subtracted_Urban_11_05 = np.reshape(Subtracted_Urban_11_05, (l*w,1))\n",
        "\n",
        "Subtracted_Urban_15_05_data = gdal.Open(pathname+\"Sub_15-05.tif\")\n",
        "Subtracted_Urban_15_05 = Subtracted_Urban_15_05_data.ReadAsArray()\n",
        "Subtracted_Urban_15_05 = np.where(Subtracted_Urban_15_05 < 0 , 0, Subtracted_Urban_15_05)\n",
        "Subtracted_Urban_15_05 = np.reshape(Subtracted_Urban_15_05, (l*w,1))\n",
        "\n",
        "Subtracted_Urban_21_11_data = gdal.Open(pathname+\"Sub_21-11.tif\")\n",
        "Subtracted_Urban_21_11 = Subtracted_Urban_21_11_data.ReadAsArray()\n",
        "Subtracted_Urban_21_11 = np.where(Subtracted_Urban_21_11 < 0 , 0, Subtracted_Urban_21_11)\n",
        "Subtracted_Urban_21_11 = np.reshape(Subtracted_Urban_21_11, (l*w,1))"
      ]
    },
    {
      "cell_type": "code",
      "source": [
        "Y_array = Subtracted_Urban_15_05\n",
        "previousBuiltup = builtup_05_06\n",
        "Temp = Temp2005\n",
        "gdp = gdp2005"
      ],
      "metadata": {
        "id": "6aFK7we1EZ63"
      },
      "execution_count": null,
      "outputs": []
    },
    {
      "cell_type": "code",
      "execution_count": null,
      "metadata": {
        "id": "nQvpgnh0NFOH"
      },
      "outputs": [],
      "source": [
        "assert Slope.shape == popden.shape == Friction.shape == Elevation.shape == gdp2005.shape == floods.shape == accessibility.shape ==Temp.shape\n",
        "assert builtup_05_06.shape == builtup_11_12.shape == builtup_15_16.shape == builtup_20_21.shape == (l*w,1)\n",
        "\n",
        "assert Subtracted_Urban_21_11.shape == Subtracted_Urban_11_05.shape == (l*w,1)\n"
      ]
    },
    {
      "cell_type": "code",
      "execution_count": null,
      "metadata": {
        "id": "jHWElx-HRD6R"
      },
      "outputs": [],
      "source": [
        "def showFeatureMaps():\n",
        "  fig, axes = plt.subplots(3, 3, figsize=(40, 15))\n",
        "  sns.heatmap(ax=axes[0, 0], data=np.reshape(Slope,(l,w)), square=True, cmap=\"crest\").set_title('Kamrup Slope')\n",
        "  sns.heatmap(ax=axes[0, 1], data=np.reshape(Elevation,(l,w)), square=True, cmap=\"crest\").set_title('Kamrup Elevation')\n",
        "  sns.heatmap(ax=axes[0, 2], data=np.reshape(Friction,(l,w)), square=True, cmap=\"crest\").set_title('Kamrup Friction')\n",
        "  sns.heatmap(ax=axes[1, 0], data=np.reshape(accessibility,(l,w)), square=True, cmap=\"crest\").set_title('Kamrup Accessibility')\n",
        "  sns.heatmap(ax=axes[1, 1], data=np.reshape(popden,(l,w)), square=True, cmap=\"crest\").set_title('Kamrup Population Density')\n",
        "  sns.heatmap(ax=axes[1, 2], data=np.reshape(floods,(l,w)), square=True, cmap=\"crest\").set_title('Kamrup Floods')\n",
        "  sns.heatmap(ax=axes[2, 0], data=np.reshape(Temp,(l,w)), square=True, cmap=\"crest\").set_title('Kamrup Temperature 2005')\n",
        "  sns.heatmap(ax=axes[2, 1], data=np.reshape(Temp2015,(l,w)), square=True, cmap=\"crest\").set_title('Kamrup Temperature 2015')\n",
        "  sns.heatmap(ax=axes[2, 2], data=np.reshape(Temp2020,(l,w)), square=True, cmap=\"crest\").set_title('Kamrup Temperature 2020')\n"
      ]
    },
    {
      "cell_type": "code",
      "execution_count": null,
      "metadata": {
        "id": "OB8GfzwpU31Y"
      },
      "outputs": [],
      "source": [
        "def showBuiltupMaps():\n",
        "  fig, axes = plt.subplots(2, 3, figsize=(40, 10))\n",
        "  sns.heatmap(ax=axes[0,0], data=np.reshape(builtup_05_06,(l,w)), cmap=\"crest\").set_title('Kamrup Builtip 2005-06')\n",
        "  sns.heatmap(ax=axes[0,1], data=np.reshape(builtup_11_12,(l,w)), cmap=\"crest\").set_title('Kamrup Builtip 2011-12')\n",
        "  sns.heatmap(ax=axes[0,2], data=np.reshape(builtup_15_16,(l,w)), cmap=\"crest\").set_title('Kamrup Builtip 2015-2016')\n",
        "  sns.heatmap(ax=axes[1,0], data=np.reshape(builtup_20_21,(l,w)), cmap=\"crest\").set_title('Kamrup Builtip 2020-2021')"
      ]
    },
    {
      "cell_type": "code",
      "source": [
        "# showFeatureMaps()"
      ],
      "metadata": {
        "id": "fBkGOdWevNHI"
      },
      "execution_count": null,
      "outputs": []
    },
    {
      "cell_type": "code",
      "source": [
        "# showBuiltupMaps()"
      ],
      "metadata": {
        "id": "PwUo0ItUvhGi"
      },
      "execution_count": null,
      "outputs": []
    },
    {
      "cell_type": "code",
      "execution_count": null,
      "metadata": {
        "id": "CYdH3lvIZhvp"
      },
      "outputs": [],
      "source": [
        "df = pd.DataFrame({\n",
        "    'Slope': Slope.flatten(),\n",
        "    'Elevation': Elevation.flatten(),\n",
        "    'PopDen': popden.flatten(),\n",
        "    'Friction': Friction.flatten(),\n",
        "    'Floods': floods.flatten(),\n",
        "    'Accessibility': accessibility.flatten(),\n",
        "    'GDP': gdp.flatten(),\n",
        "    'Previous_builtup': previousBuiltup.flatten(),\n",
        "    'Temp':Temp.flatten(),\n",
        "    'Y': Y_array.flatten(),\n",
        "})\n",
        "\n",
        "X = df.drop('Y', axis=1)\n",
        "Y = df['Y']"
      ]
    },
    {
      "cell_type": "code",
      "execution_count": null,
      "metadata": {
        "id": "mkgxkpLYekCJ",
        "colab": {
          "base_uri": "https://localhost:8080/",
          "height": 364
        },
        "outputId": "37469dae-d815-4953-d611-9e1e9f14cf31"
      },
      "outputs": [
        {
          "output_type": "execute_result",
          "data": {
            "text/plain": [
              "              Slope     Elevation        PopDen      Friction        Floods  \\\n",
              "count  1.937682e+06  1.939210e+06  1.937869e+06  1.935703e+06  1.939194e+06   \n",
              "mean   8.600398e-01  8.232493e-01  1.338998e-01  8.634150e-01  8.882453e-01   \n",
              "std    1.367591e-01  1.472543e-01  1.862207e-01  1.828166e-01  2.511740e-01   \n",
              "min    7.491708e-02  0.000000e+00  0.000000e+00  1.926445e-02  0.000000e+00   \n",
              "25%    7.715124e-01  7.523553e-01  0.000000e+00  7.655186e-01  1.000000e+00   \n",
              "50%    9.176646e-01  9.030955e-01  5.982101e-02  9.616657e-01  1.000000e+00   \n",
              "75%    9.706095e-01  9.259758e-01  1.912388e-01  9.809301e-01  1.000000e+00   \n",
              "max    1.000000e+00  1.000000e+00  1.000000e+00  1.000000e+00  1.000000e+00   \n",
              "\n",
              "       Accessibility           GDP  Previous_builtup          Temp  \\\n",
              "count   1.935918e+06  1.939170e+06      1.939268e+06  1.939176e+06   \n",
              "mean    7.862569e-01  1.821177e-01      1.292622e-01  5.588484e-01   \n",
              "std     1.607000e-01  2.751711e-01      3.354900e-01  1.685054e-01   \n",
              "min     0.000000e+00  0.000000e+00      0.000000e+00  0.000000e+00   \n",
              "25%     7.155893e-01  1.772051e-02      0.000000e+00  4.451104e-01   \n",
              "50%     8.263523e-01  4.634973e-02      0.000000e+00  5.684696e-01   \n",
              "75%     9.018762e-01  1.996024e-01      0.000000e+00  6.780782e-01   \n",
              "max     1.000000e+00  1.000000e+00      1.000000e+00  1.000000e+00   \n",
              "\n",
              "                  Y  \n",
              "count  3.488477e+06  \n",
              "mean   2.022774e-02  \n",
              "std    1.407785e-01  \n",
              "min    0.000000e+00  \n",
              "25%    0.000000e+00  \n",
              "50%    0.000000e+00  \n",
              "75%    0.000000e+00  \n",
              "max    1.000000e+00  "
            ],
            "text/html": [
              "\n",
              "\n",
              "  <div id=\"df-35f6df9c-d6f0-4c7b-903b-3063b0fcc342\">\n",
              "    <div class=\"colab-df-container\">\n",
              "      <div>\n",
              "<style scoped>\n",
              "    .dataframe tbody tr th:only-of-type {\n",
              "        vertical-align: middle;\n",
              "    }\n",
              "\n",
              "    .dataframe tbody tr th {\n",
              "        vertical-align: top;\n",
              "    }\n",
              "\n",
              "    .dataframe thead th {\n",
              "        text-align: right;\n",
              "    }\n",
              "</style>\n",
              "<table border=\"1\" class=\"dataframe\">\n",
              "  <thead>\n",
              "    <tr style=\"text-align: right;\">\n",
              "      <th></th>\n",
              "      <th>Slope</th>\n",
              "      <th>Elevation</th>\n",
              "      <th>PopDen</th>\n",
              "      <th>Friction</th>\n",
              "      <th>Floods</th>\n",
              "      <th>Accessibility</th>\n",
              "      <th>GDP</th>\n",
              "      <th>Previous_builtup</th>\n",
              "      <th>Temp</th>\n",
              "      <th>Y</th>\n",
              "    </tr>\n",
              "  </thead>\n",
              "  <tbody>\n",
              "    <tr>\n",
              "      <th>count</th>\n",
              "      <td>1.937682e+06</td>\n",
              "      <td>1.939210e+06</td>\n",
              "      <td>1.937869e+06</td>\n",
              "      <td>1.935703e+06</td>\n",
              "      <td>1.939194e+06</td>\n",
              "      <td>1.935918e+06</td>\n",
              "      <td>1.939170e+06</td>\n",
              "      <td>1.939268e+06</td>\n",
              "      <td>1.939176e+06</td>\n",
              "      <td>3.488477e+06</td>\n",
              "    </tr>\n",
              "    <tr>\n",
              "      <th>mean</th>\n",
              "      <td>8.600398e-01</td>\n",
              "      <td>8.232493e-01</td>\n",
              "      <td>1.338998e-01</td>\n",
              "      <td>8.634150e-01</td>\n",
              "      <td>8.882453e-01</td>\n",
              "      <td>7.862569e-01</td>\n",
              "      <td>1.821177e-01</td>\n",
              "      <td>1.292622e-01</td>\n",
              "      <td>5.588484e-01</td>\n",
              "      <td>2.022774e-02</td>\n",
              "    </tr>\n",
              "    <tr>\n",
              "      <th>std</th>\n",
              "      <td>1.367591e-01</td>\n",
              "      <td>1.472543e-01</td>\n",
              "      <td>1.862207e-01</td>\n",
              "      <td>1.828166e-01</td>\n",
              "      <td>2.511740e-01</td>\n",
              "      <td>1.607000e-01</td>\n",
              "      <td>2.751711e-01</td>\n",
              "      <td>3.354900e-01</td>\n",
              "      <td>1.685054e-01</td>\n",
              "      <td>1.407785e-01</td>\n",
              "    </tr>\n",
              "    <tr>\n",
              "      <th>min</th>\n",
              "      <td>7.491708e-02</td>\n",
              "      <td>0.000000e+00</td>\n",
              "      <td>0.000000e+00</td>\n",
              "      <td>1.926445e-02</td>\n",
              "      <td>0.000000e+00</td>\n",
              "      <td>0.000000e+00</td>\n",
              "      <td>0.000000e+00</td>\n",
              "      <td>0.000000e+00</td>\n",
              "      <td>0.000000e+00</td>\n",
              "      <td>0.000000e+00</td>\n",
              "    </tr>\n",
              "    <tr>\n",
              "      <th>25%</th>\n",
              "      <td>7.715124e-01</td>\n",
              "      <td>7.523553e-01</td>\n",
              "      <td>0.000000e+00</td>\n",
              "      <td>7.655186e-01</td>\n",
              "      <td>1.000000e+00</td>\n",
              "      <td>7.155893e-01</td>\n",
              "      <td>1.772051e-02</td>\n",
              "      <td>0.000000e+00</td>\n",
              "      <td>4.451104e-01</td>\n",
              "      <td>0.000000e+00</td>\n",
              "    </tr>\n",
              "    <tr>\n",
              "      <th>50%</th>\n",
              "      <td>9.176646e-01</td>\n",
              "      <td>9.030955e-01</td>\n",
              "      <td>5.982101e-02</td>\n",
              "      <td>9.616657e-01</td>\n",
              "      <td>1.000000e+00</td>\n",
              "      <td>8.263523e-01</td>\n",
              "      <td>4.634973e-02</td>\n",
              "      <td>0.000000e+00</td>\n",
              "      <td>5.684696e-01</td>\n",
              "      <td>0.000000e+00</td>\n",
              "    </tr>\n",
              "    <tr>\n",
              "      <th>75%</th>\n",
              "      <td>9.706095e-01</td>\n",
              "      <td>9.259758e-01</td>\n",
              "      <td>1.912388e-01</td>\n",
              "      <td>9.809301e-01</td>\n",
              "      <td>1.000000e+00</td>\n",
              "      <td>9.018762e-01</td>\n",
              "      <td>1.996024e-01</td>\n",
              "      <td>0.000000e+00</td>\n",
              "      <td>6.780782e-01</td>\n",
              "      <td>0.000000e+00</td>\n",
              "    </tr>\n",
              "    <tr>\n",
              "      <th>max</th>\n",
              "      <td>1.000000e+00</td>\n",
              "      <td>1.000000e+00</td>\n",
              "      <td>1.000000e+00</td>\n",
              "      <td>1.000000e+00</td>\n",
              "      <td>1.000000e+00</td>\n",
              "      <td>1.000000e+00</td>\n",
              "      <td>1.000000e+00</td>\n",
              "      <td>1.000000e+00</td>\n",
              "      <td>1.000000e+00</td>\n",
              "      <td>1.000000e+00</td>\n",
              "    </tr>\n",
              "  </tbody>\n",
              "</table>\n",
              "</div>\n",
              "      <button class=\"colab-df-convert\" onclick=\"convertToInteractive('df-35f6df9c-d6f0-4c7b-903b-3063b0fcc342')\"\n",
              "              title=\"Convert this dataframe to an interactive table.\"\n",
              "              style=\"display:none;\">\n",
              "\n",
              "  <svg xmlns=\"http://www.w3.org/2000/svg\" height=\"24px\"viewBox=\"0 0 24 24\"\n",
              "       width=\"24px\">\n",
              "    <path d=\"M0 0h24v24H0V0z\" fill=\"none\"/>\n",
              "    <path d=\"M18.56 5.44l.94 2.06.94-2.06 2.06-.94-2.06-.94-.94-2.06-.94 2.06-2.06.94zm-11 1L8.5 8.5l.94-2.06 2.06-.94-2.06-.94L8.5 2.5l-.94 2.06-2.06.94zm10 10l.94 2.06.94-2.06 2.06-.94-2.06-.94-.94-2.06-.94 2.06-2.06.94z\"/><path d=\"M17.41 7.96l-1.37-1.37c-.4-.4-.92-.59-1.43-.59-.52 0-1.04.2-1.43.59L10.3 9.45l-7.72 7.72c-.78.78-.78 2.05 0 2.83L4 21.41c.39.39.9.59 1.41.59.51 0 1.02-.2 1.41-.59l7.78-7.78 2.81-2.81c.8-.78.8-2.07 0-2.86zM5.41 20L4 18.59l7.72-7.72 1.47 1.35L5.41 20z\"/>\n",
              "  </svg>\n",
              "      </button>\n",
              "\n",
              "\n",
              "\n",
              "    <div id=\"df-d112ca98-fe52-4eed-9d35-ddf3eddfb91a\">\n",
              "      <button class=\"colab-df-quickchart\" onclick=\"quickchart('df-d112ca98-fe52-4eed-9d35-ddf3eddfb91a')\"\n",
              "              title=\"Suggest charts.\"\n",
              "              style=\"display:none;\">\n",
              "\n",
              "<svg xmlns=\"http://www.w3.org/2000/svg\" height=\"24px\"viewBox=\"0 0 24 24\"\n",
              "     width=\"24px\">\n",
              "    <g>\n",
              "        <path d=\"M19 3H5c-1.1 0-2 .9-2 2v14c0 1.1.9 2 2 2h14c1.1 0 2-.9 2-2V5c0-1.1-.9-2-2-2zM9 17H7v-7h2v7zm4 0h-2V7h2v10zm4 0h-2v-4h2v4z\"/>\n",
              "    </g>\n",
              "</svg>\n",
              "      </button>\n",
              "    </div>\n",
              "\n",
              "<style>\n",
              "  .colab-df-quickchart {\n",
              "    background-color: #E8F0FE;\n",
              "    border: none;\n",
              "    border-radius: 50%;\n",
              "    cursor: pointer;\n",
              "    display: none;\n",
              "    fill: #1967D2;\n",
              "    height: 32px;\n",
              "    padding: 0 0 0 0;\n",
              "    width: 32px;\n",
              "  }\n",
              "\n",
              "  .colab-df-quickchart:hover {\n",
              "    background-color: #E2EBFA;\n",
              "    box-shadow: 0px 1px 2px rgba(60, 64, 67, 0.3), 0px 1px 3px 1px rgba(60, 64, 67, 0.15);\n",
              "    fill: #174EA6;\n",
              "  }\n",
              "\n",
              "  [theme=dark] .colab-df-quickchart {\n",
              "    background-color: #3B4455;\n",
              "    fill: #D2E3FC;\n",
              "  }\n",
              "\n",
              "  [theme=dark] .colab-df-quickchart:hover {\n",
              "    background-color: #434B5C;\n",
              "    box-shadow: 0px 1px 3px 1px rgba(0, 0, 0, 0.15);\n",
              "    filter: drop-shadow(0px 1px 2px rgba(0, 0, 0, 0.3));\n",
              "    fill: #FFFFFF;\n",
              "  }\n",
              "</style>\n",
              "\n",
              "    <script>\n",
              "      async function quickchart(key) {\n",
              "        const containerElement = document.querySelector('#' + key);\n",
              "        const charts = await google.colab.kernel.invokeFunction(\n",
              "            'suggestCharts', [key], {});\n",
              "      }\n",
              "    </script>\n",
              "\n",
              "      <script>\n",
              "\n",
              "function displayQuickchartButton(domScope) {\n",
              "  let quickchartButtonEl =\n",
              "    domScope.querySelector('#df-d112ca98-fe52-4eed-9d35-ddf3eddfb91a button.colab-df-quickchart');\n",
              "  quickchartButtonEl.style.display =\n",
              "    google.colab.kernel.accessAllowed ? 'block' : 'none';\n",
              "}\n",
              "\n",
              "        displayQuickchartButton(document);\n",
              "      </script>\n",
              "      <style>\n",
              "    .colab-df-container {\n",
              "      display:flex;\n",
              "      flex-wrap:wrap;\n",
              "      gap: 12px;\n",
              "    }\n",
              "\n",
              "    .colab-df-convert {\n",
              "      background-color: #E8F0FE;\n",
              "      border: none;\n",
              "      border-radius: 50%;\n",
              "      cursor: pointer;\n",
              "      display: none;\n",
              "      fill: #1967D2;\n",
              "      height: 32px;\n",
              "      padding: 0 0 0 0;\n",
              "      width: 32px;\n",
              "    }\n",
              "\n",
              "    .colab-df-convert:hover {\n",
              "      background-color: #E2EBFA;\n",
              "      box-shadow: 0px 1px 2px rgba(60, 64, 67, 0.3), 0px 1px 3px 1px rgba(60, 64, 67, 0.15);\n",
              "      fill: #174EA6;\n",
              "    }\n",
              "\n",
              "    [theme=dark] .colab-df-convert {\n",
              "      background-color: #3B4455;\n",
              "      fill: #D2E3FC;\n",
              "    }\n",
              "\n",
              "    [theme=dark] .colab-df-convert:hover {\n",
              "      background-color: #434B5C;\n",
              "      box-shadow: 0px 1px 3px 1px rgba(0, 0, 0, 0.15);\n",
              "      filter: drop-shadow(0px 1px 2px rgba(0, 0, 0, 0.3));\n",
              "      fill: #FFFFFF;\n",
              "    }\n",
              "  </style>\n",
              "\n",
              "      <script>\n",
              "        const buttonEl =\n",
              "          document.querySelector('#df-35f6df9c-d6f0-4c7b-903b-3063b0fcc342 button.colab-df-convert');\n",
              "        buttonEl.style.display =\n",
              "          google.colab.kernel.accessAllowed ? 'block' : 'none';\n",
              "\n",
              "        async function convertToInteractive(key) {\n",
              "          const element = document.querySelector('#df-35f6df9c-d6f0-4c7b-903b-3063b0fcc342');\n",
              "          const dataTable =\n",
              "            await google.colab.kernel.invokeFunction('convertToInteractive',\n",
              "                                                     [key], {});\n",
              "          if (!dataTable) return;\n",
              "\n",
              "          const docLinkHtml = 'Like what you see? Visit the ' +\n",
              "            '<a target=\"_blank\" href=https://colab.research.google.com/notebooks/data_table.ipynb>data table notebook</a>'\n",
              "            + ' to learn more about interactive tables.';\n",
              "          element.innerHTML = '';\n",
              "          dataTable['output_type'] = 'display_data';\n",
              "          await google.colab.output.renderOutput(dataTable, element);\n",
              "          const docLink = document.createElement('div');\n",
              "          docLink.innerHTML = docLinkHtml;\n",
              "          element.appendChild(docLink);\n",
              "        }\n",
              "      </script>\n",
              "    </div>\n",
              "  </div>\n"
            ]
          },
          "metadata": {},
          "execution_count": 31
        }
      ],
      "source": [
        "df.describe()"
      ]
    },
    {
      "cell_type": "code",
      "execution_count": null,
      "metadata": {
        "id": "fhjUphw2Mt4M"
      },
      "outputs": [],
      "source": [
        "Temp = Temp2011\n",
        "previousBuiltup = builtup_11_12\n",
        "Y_array = Subtracted_Urban_21_11\n",
        "\n",
        "df_eval = pd.DataFrame({\n",
        "    'Slope': Slope.flatten(),\n",
        "    'Elevation': Elevation.flatten(),\n",
        "    'PopDen': popden.flatten(),\n",
        "    'Friction': Friction.flatten(),\n",
        "    'Floods': floods.flatten(),\n",
        "    'Accessibility': accessibility.flatten(),\n",
        "    'GDP': gdp.flatten(),\n",
        "    'Previous_builtup': previousBuiltup.flatten(),\n",
        "    'Temp':Temp.flatten(),\n",
        "    'Y': Y_array.flatten(),\n",
        "})\n",
        "X_eval = df_eval.drop('Y', axis=1)\n",
        "Y_eval = df_eval['Y']"
      ]
    },
    {
      "cell_type": "code",
      "source": [
        "np.count_nonzero(Y_eval == .5)\n",
        "# Y_eval"
      ],
      "metadata": {
        "colab": {
          "base_uri": "https://localhost:8080/"
        },
        "id": "rDM1rjSkErNT",
        "outputId": "cb432d28-dbfb-4bc9-9111-8005fadbde6c"
      },
      "execution_count": null,
      "outputs": [
        {
          "output_type": "execute_result",
          "data": {
            "text/plain": [
              "0"
            ]
          },
          "metadata": {},
          "execution_count": 33
        }
      ]
    },
    {
      "cell_type": "code",
      "execution_count": null,
      "metadata": {
        "id": "lF4Cti7zEAil"
      },
      "outputs": [],
      "source": [
        "# X_train, X_test, y_train, y_test = train_test_split(X, Y, random_state=0, train_size = .80)\n",
        "evalset=[(X_eval,Y_eval)]"
      ]
    },
    {
      "cell_type": "code",
      "execution_count": null,
      "metadata": {
        "id": "M-mLRLeZN62g",
        "colab": {
          "base_uri": "https://localhost:8080/"
        },
        "outputId": "7d99a17e-3d28-43d9-d0c9-d68420eb272d"
      },
      "outputs": [
        {
          "output_type": "stream",
          "name": "stdout",
          "text": [
            "[0]\tvalidation_0-rmse:0.47641\n",
            "[1]\tvalidation_0-rmse:0.45405\n",
            "[2]\tvalidation_0-rmse:0.43290\n",
            "[3]\tvalidation_0-rmse:0.41286\n",
            "[4]\tvalidation_0-rmse:0.39389\n",
            "[5]\tvalidation_0-rmse:0.37596\n",
            "[6]\tvalidation_0-rmse:0.35902\n",
            "[7]\tvalidation_0-rmse:0.34301\n",
            "[8]\tvalidation_0-rmse:0.32787\n",
            "[9]\tvalidation_0-rmse:0.31359\n",
            "[10]\tvalidation_0-rmse:0.30012\n",
            "[11]\tvalidation_0-rmse:0.28742\n",
            "[12]\tvalidation_0-rmse:0.27545\n",
            "[13]\tvalidation_0-rmse:0.26422\n",
            "[14]\tvalidation_0-rmse:0.25362\n",
            "[15]\tvalidation_0-rmse:0.24369\n",
            "[16]\tvalidation_0-rmse:0.23435\n",
            "[17]\tvalidation_0-rmse:0.22559\n",
            "[18]\tvalidation_0-rmse:0.21740\n",
            "[19]\tvalidation_0-rmse:0.20975\n",
            "[20]\tvalidation_0-rmse:0.20257\n",
            "[21]\tvalidation_0-rmse:0.19588\n",
            "[22]\tvalidation_0-rmse:0.18961\n",
            "[23]\tvalidation_0-rmse:0.18378\n",
            "[24]\tvalidation_0-rmse:0.17833\n",
            "[25]\tvalidation_0-rmse:0.17327\n",
            "[26]\tvalidation_0-rmse:0.16860\n",
            "[27]\tvalidation_0-rmse:0.16429\n",
            "[28]\tvalidation_0-rmse:0.16023\n",
            "[29]\tvalidation_0-rmse:0.15649\n",
            "[30]\tvalidation_0-rmse:0.15307\n",
            "[31]\tvalidation_0-rmse:0.14988\n",
            "[32]\tvalidation_0-rmse:0.14695\n",
            "[33]\tvalidation_0-rmse:0.14425\n",
            "[34]\tvalidation_0-rmse:0.14177\n",
            "[35]\tvalidation_0-rmse:0.13950\n",
            "[36]\tvalidation_0-rmse:0.13741\n",
            "[37]\tvalidation_0-rmse:0.13549\n",
            "[38]\tvalidation_0-rmse:0.13374\n",
            "[39]\tvalidation_0-rmse:0.13214\n",
            "[40]\tvalidation_0-rmse:0.13068\n",
            "[41]\tvalidation_0-rmse:0.12944\n",
            "[42]\tvalidation_0-rmse:0.12823\n",
            "[43]\tvalidation_0-rmse:0.12715\n",
            "[44]\tvalidation_0-rmse:0.12613\n",
            "[45]\tvalidation_0-rmse:0.12526\n",
            "[46]\tvalidation_0-rmse:0.12445\n",
            "[47]\tvalidation_0-rmse:0.12372\n",
            "[48]\tvalidation_0-rmse:0.12306\n",
            "[49]\tvalidation_0-rmse:0.12243\n",
            "[50]\tvalidation_0-rmse:0.12188\n",
            "[51]\tvalidation_0-rmse:0.12145\n",
            "[52]\tvalidation_0-rmse:0.12098\n",
            "[53]\tvalidation_0-rmse:0.12056\n",
            "[54]\tvalidation_0-rmse:0.12022\n",
            "[55]\tvalidation_0-rmse:0.11990\n",
            "[56]\tvalidation_0-rmse:0.11966\n",
            "[57]\tvalidation_0-rmse:0.11938\n",
            "[58]\tvalidation_0-rmse:0.11916\n",
            "[59]\tvalidation_0-rmse:0.11892\n",
            "[60]\tvalidation_0-rmse:0.11874\n",
            "[61]\tvalidation_0-rmse:0.11854\n",
            "[62]\tvalidation_0-rmse:0.11838\n",
            "[63]\tvalidation_0-rmse:0.11822\n",
            "[64]\tvalidation_0-rmse:0.11811\n",
            "[65]\tvalidation_0-rmse:0.11797\n",
            "[66]\tvalidation_0-rmse:0.11787\n",
            "[67]\tvalidation_0-rmse:0.11778\n",
            "[68]\tvalidation_0-rmse:0.11772\n",
            "[69]\tvalidation_0-rmse:0.11762\n",
            "[70]\tvalidation_0-rmse:0.11757\n",
            "[71]\tvalidation_0-rmse:0.11751\n",
            "[72]\tvalidation_0-rmse:0.11743\n",
            "[73]\tvalidation_0-rmse:0.11737\n",
            "[74]\tvalidation_0-rmse:0.11732\n",
            "[75]\tvalidation_0-rmse:0.11727\n",
            "[76]\tvalidation_0-rmse:0.11723\n",
            "[77]\tvalidation_0-rmse:0.11719\n",
            "[78]\tvalidation_0-rmse:0.11715\n",
            "[79]\tvalidation_0-rmse:0.11712\n",
            "[80]\tvalidation_0-rmse:0.11711\n",
            "[81]\tvalidation_0-rmse:0.11710\n",
            "[82]\tvalidation_0-rmse:0.11709\n",
            "[83]\tvalidation_0-rmse:0.11709\n",
            "[84]\tvalidation_0-rmse:0.11709\n",
            "[85]\tvalidation_0-rmse:0.11710\n",
            "[86]\tvalidation_0-rmse:0.11709\n",
            "[87]\tvalidation_0-rmse:0.11708\n",
            "[88]\tvalidation_0-rmse:0.11711\n",
            "[89]\tvalidation_0-rmse:0.11711\n",
            "[90]\tvalidation_0-rmse:0.11709\n",
            "[91]\tvalidation_0-rmse:0.11711\n",
            "[92]\tvalidation_0-rmse:0.11713\n",
            "[93]\tvalidation_0-rmse:0.11713\n",
            "[94]\tvalidation_0-rmse:0.11715\n",
            "[95]\tvalidation_0-rmse:0.11714\n",
            "[96]\tvalidation_0-rmse:0.11714\n",
            "[97]\tvalidation_0-rmse:0.11718\n",
            "[98]\tvalidation_0-rmse:0.11721\n",
            "[99]\tvalidation_0-rmse:0.11719\n"
          ]
        }
      ],
      "source": [
        "params = {'eta': 0.05,\n",
        " 'eval_metric': 'rmse',\n",
        " 'max_depth': 5,\n",
        " 'tree_method': 'gpu_hist'}\n",
        "xgb_model=XGBRegressor(**params)\n",
        "model=xgb_model.fit(X,Y, eval_set=evalset,verbose=True)"
      ]
    },
    {
      "cell_type": "markdown",
      "metadata": {
        "id": "1DWdLct2ymhR"
      },
      "source": [
        "Import some metrics and checking models' score"
      ]
    },
    {
      "cell_type": "code",
      "execution_count": null,
      "metadata": {
        "id": "HKFIhp8_UkWi",
        "colab": {
          "base_uri": "https://localhost:8080/",
          "height": 490
        },
        "outputId": "aebc6c25-cd67-4a83-b85c-ea7d44e9c1a3"
      },
      "outputs": [
        {
          "output_type": "execute_result",
          "data": {
            "text/plain": [
              "<Axes: title={'center': 'Feature importance'}, xlabel='F score', ylabel='Features'>"
            ]
          },
          "metadata": {},
          "execution_count": 36
        },
        {
          "output_type": "display_data",
          "data": {
            "text/plain": [
              "<Figure size 640x480 with 1 Axes>"
            ],
            "image/png": "[encoded data removed]"
          },
          "metadata": {}
        }
      ],
      "source": [
        "from xgboost import plot_importance\n",
        "plot_importance(xgb_model)"
      ]
    },
    {
      "cell_type": "code",
      "execution_count": null,
      "metadata": {
        "id": "zNHWhmf5t4gi"
      },
      "outputs": [],
      "source": [
        "threshold = 0.5\n",
        "y_pred = model.predict(X_eval)\n",
        "y_pred = np.clip(y_pred, 0, 1)\n",
        "y_pred = np.where(y_pred >= threshold, 1, 0)\n",
        "y_test = Y_eval.astype(int)"
      ]
    },
    {
      "cell_type": "code",
      "execution_count": null,
      "metadata": {
        "id": "cbRgg17TUZ8C",
        "colab": {
          "base_uri": "https://localhost:8080/"
        },
        "outputId": "270ff6f7-7764-46e1-b630-9d4c35c6298a"
      },
      "outputs": [
        {
          "output_type": "stream",
          "name": "stdout",
          "text": [
            "f1_score = 0.6009109740783735\n",
            "Precision = 0.6790141686401914\n",
            "Recall = 0.5714270524493812\n",
            "Accuracy = 0.983405079064589\n",
            "RMSE = 0.12882127516606515\n"
          ]
        }
      ],
      "source": [
        "from sklearn.metrics import precision_score, recall_score, accuracy_score, f1_score\n",
        "from sklearn.metrics import mean_squared_error as MSE\n",
        "\n",
        "print(\"f1_score = {}\".format(f1_score(y_test, y_pred, average='macro')))\n",
        "print(\"Precision = {}\".format(precision_score(y_test, y_pred, average='macro')))\n",
        "print(\"Recall = {}\".format(recall_score(y_test, y_pred, average='macro')))\n",
        "print(\"Accuracy = {}\".format(accuracy_score(y_test, y_pred)))\n",
        "print(\"RMSE = {}\".format(np.sqrt(MSE(y_test, y_pred))))"
      ]
    },
    {
      "cell_type": "code",
      "execution_count": null,
      "metadata": {
        "id": "obY2qmk2WJPw"
      },
      "outputs": [],
      "source": [
        "def write_geotiff(filename, arr1,in_ds):\n",
        "    if arr1.dtype == np.float32:\n",
        "        arr_type = gdal.GDT_Float32\n",
        "    else:\n",
        "        arr_type = gdal.GDT_Int32\n",
        "\n",
        "    driver = gdal.GetDriverByName(\"GTiff\")\n",
        "    out_ds = driver.Create(filename, arr1.shape[1], arr1.shape[0], 1, arr_type)\n",
        "    out_ds.SetProjection(in_ds.GetProjection())\n",
        "    out_ds.SetGeoTransform(in_ds.GetGeoTransform())\n",
        "    band = out_ds.GetRasterBand(1)\n",
        "    band.WriteArray(arr1)\n",
        "    # band = out_ds.GetRasterBand(2)\n",
        "    # band.WriteArray(arr2)\n",
        "\n",
        "    band.FlushCache()\n",
        "    band.ComputeStatistics(False)"
      ]
    },
    {
      "cell_type": "code",
      "source": [
        "def predictionMap(Temp, previousBuiltup, previousBuiltupGdalData ,threshold , showMaps=False, exportMaps=False ,actualSubtractedMap=None):\n",
        "\n",
        "  df = pd.DataFrame({\n",
        "      'Slope': Slope.flatten(),\n",
        "      'Elevation': Elevation.flatten(),\n",
        "      'PopDen': popden.flatten(),\n",
        "      'Friction': Friction.flatten(),\n",
        "      'Floods': floods.flatten(),\n",
        "      'Accessibility': accessibility.flatten(),\n",
        "      'GDP': gdp.flatten(),\n",
        "      'Previous_builtup': previousBuiltup.flatten(),\n",
        "      'Temp':Temp.flatten(),\n",
        "  })\n",
        "\n",
        "  y_prediction = model.predict(X)\n",
        "\n",
        "\n",
        "  if(actualSubtractedMap):\n",
        "    y_prediction_for_test = np.clip(y_prediction, 0, 1)\n",
        "    y_prediction_for_test = np.where(y_prediction_for_test >= threshold, 1, 0)\n",
        "    y_prediction_for_test = y_prediction_for_test.astype(int)\n",
        "\n",
        "    print(\"f1_score = {}\".format(f1_score(actualSubtractedMap, y_prediction_for_test, average='macro')))\n",
        "    print(\"Precision = {}\".format(precision_score(actualSubtractedMap, y_prediction_for_test, average='macro')))\n",
        "    print(\"Recall = {}\".format(recall_score(actualSubtractedMap, y_prediction_for_test, average='macro')))\n",
        "    print(\"Accuracy = {}\".format(accuracy_score(actualSubtractedMap, y_prediction_for_test)))\n",
        "    print(\"RMSE = {}\".format(np.sqrt(MSE(actualSubtractedMap, y_prediction_for_test))))\n",
        "\n",
        "  if(showMaps):\n",
        "    fig, axes = plt.subplots(1, 1, figsize=(10, 3))\n",
        "    sns.heatmap(ax=axes, data=np.reshape(y_prediction,(l,w)).astype(np.float32), cmap=\"crest\").set_title('Kamrup Urbanisation Zones Predicted 2030')\n",
        "\n",
        "  y_prediction = np.clip(y_prediction, 0, 1)\n",
        "\n",
        "  if(exportMaps):\n",
        "    write_geotiff('2030_predicted_CV_params.tiff',np.reshape(y_prediction,(l,w)),previousBuiltupGdalData)\n"
      ],
      "metadata": {
        "id": "AKYFCcHOSGWJ"
      },
      "execution_count": null,
      "outputs": []
    },
    {
      "cell_type": "code",
      "source": [
        "predictionMap(Temp2020 , builtup_20_21 , Subtracted_Urban_21_11_data , 0.5, showMaps=True, exportMaps=False)"
      ],
      "metadata": {
        "id": "fUUmq17vTtN6",
        "colab": {
          "base_uri": "https://localhost:8080/",
          "height": 602
        },
        "outputId": "f118ba9e-358f-45b1-8e7b-6181131bddc4"
      },
      "execution_count": null,
      "outputs": [
        {
          "output_type": "error",
          "ename": "KeyboardInterrupt",
          "evalue": "ignored",
          "traceback": [
            "\u001b[0;31m---------------------------------------------------------------------------\u001b[0m",
            "\u001b[0;31mKeyboardInterrupt\u001b[0m                         Traceback (most recent call last)",
            "\u001b[0;32m<ipython-input-41-ae036a45728f>\u001b[0m in \u001b[0;36m<cell line: 1>\u001b[0;34m()\u001b[0m\n\u001b[0;32m----> 1\u001b[0;31m \u001b[0mpredictionMap\u001b[0m\u001b[0;34m(\u001b[0m\u001b[0mTemp2020\u001b[0m \u001b[0;34m,\u001b[0m \u001b[0mbuiltup_20_21\u001b[0m \u001b[0;34m,\u001b[0m \u001b[0mSubtracted_Urban_21_11_data\u001b[0m \u001b[0;34m,\u001b[0m \u001b[0;36m0.5\u001b[0m\u001b[0;34m,\u001b[0m \u001b[0mshowMaps\u001b[0m\u001b[0;34m=\u001b[0m\u001b[0;32mTrue\u001b[0m\u001b[0;34m,\u001b[0m \u001b[0mexportMaps\u001b[0m\u001b[0;34m=\u001b[0m\u001b[0;32mFalse\u001b[0m\u001b[0;34m)\u001b[0m\u001b[0;34m\u001b[0m\u001b[0;34m\u001b[0m\u001b[0m\n\u001b[0m",
            "\u001b[0;32m<ipython-input-40-b659de528f5b>\u001b[0m in \u001b[0;36mpredictionMap\u001b[0;34m(Temp, previousBuiltup, previousBuiltupGdalData, threshold, showMaps, exportMaps, actualSubtractedMap)\u001b[0m\n\u001b[1;32m     29\u001b[0m   \u001b[0;32mif\u001b[0m\u001b[0;34m(\u001b[0m\u001b[0mshowMaps\u001b[0m\u001b[0;34m)\u001b[0m\u001b[0;34m:\u001b[0m\u001b[0;34m\u001b[0m\u001b[0;34m\u001b[0m\u001b[0m\n\u001b[1;32m     30\u001b[0m     \u001b[0mfig\u001b[0m\u001b[0;34m,\u001b[0m \u001b[0maxes\u001b[0m \u001b[0;34m=\u001b[0m \u001b[0mplt\u001b[0m\u001b[0;34m.\u001b[0m\u001b[0msubplots\u001b[0m\u001b[0;34m(\u001b[0m\u001b[0;36m1\u001b[0m\u001b[0;34m,\u001b[0m \u001b[0;36m1\u001b[0m\u001b[0;34m,\u001b[0m \u001b[0mfigsize\u001b[0m\u001b[0;34m=\u001b[0m\u001b[0;34m(\u001b[0m\u001b[0;36m10\u001b[0m\u001b[0;34m,\u001b[0m \u001b[0;36m3\u001b[0m\u001b[0;34m)\u001b[0m\u001b[0;34m)\u001b[0m\u001b[0;34m\u001b[0m\u001b[0;34m\u001b[0m\u001b[0m\n\u001b[0;32m---> 31\u001b[0;31m     \u001b[0msns\u001b[0m\u001b[0;34m.\u001b[0m\u001b[0mheatmap\u001b[0m\u001b[0;34m(\u001b[0m\u001b[0max\u001b[0m\u001b[0;34m=\u001b[0m\u001b[0maxes\u001b[0m\u001b[0;34m,\u001b[0m \u001b[0mdata\u001b[0m\u001b[0;34m=\u001b[0m\u001b[0mnp\u001b[0m\u001b[0;34m.\u001b[0m\u001b[0mreshape\u001b[0m\u001b[0;34m(\u001b[0m\u001b[0my_prediction\u001b[0m\u001b[0;34m,\u001b[0m\u001b[0;34m(\u001b[0m\u001b[0ml\u001b[0m\u001b[0;34m,\u001b[0m\u001b[0mw\u001b[0m\u001b[0;34m)\u001b[0m\u001b[0;34m)\u001b[0m\u001b[0;34m.\u001b[0m\u001b[0mastype\u001b[0m\u001b[0;34m(\u001b[0m\u001b[0mnp\u001b[0m\u001b[0;34m.\u001b[0m\u001b[0mfloat32\u001b[0m\u001b[0;34m)\u001b[0m\u001b[0;34m,\u001b[0m \u001b[0mcmap\u001b[0m\u001b[0;34m=\u001b[0m\u001b[0;34m\"crest\"\u001b[0m\u001b[0;34m)\u001b[0m\u001b[0;34m.\u001b[0m\u001b[0mset_title\u001b[0m\u001b[0;34m(\u001b[0m\u001b[0;34m'Kamrup Urbanisation Zones Predicted 2030'\u001b[0m\u001b[0;34m)\u001b[0m\u001b[0;34m\u001b[0m\u001b[0;34m\u001b[0m\u001b[0m\n\u001b[0m\u001b[1;32m     32\u001b[0m \u001b[0;34m\u001b[0m\u001b[0m\n\u001b[1;32m     33\u001b[0m   \u001b[0my_prediction\u001b[0m \u001b[0;34m=\u001b[0m \u001b[0mnp\u001b[0m\u001b[0;34m.\u001b[0m\u001b[0mclip\u001b[0m\u001b[0;34m(\u001b[0m\u001b[0my_prediction\u001b[0m\u001b[0;34m,\u001b[0m \u001b[0;36m0\u001b[0m\u001b[0;34m,\u001b[0m \u001b[0;36m1\u001b[0m\u001b[0;34m)\u001b[0m\u001b[0;34m\u001b[0m\u001b[0;34m\u001b[0m\u001b[0m\n",
            "\u001b[0;32m/usr/local/lib/python3.10/dist-packages/seaborn/matrix.py\u001b[0m in \u001b[0;36mheatmap\u001b[0;34m(data, vmin, vmax, cmap, center, robust, annot, fmt, annot_kws, linewidths, linecolor, cbar, cbar_kws, cbar_ax, square, xticklabels, yticklabels, mask, ax, **kwargs)\u001b[0m\n\u001b[1;32m    457\u001b[0m     \u001b[0;32mif\u001b[0m \u001b[0msquare\u001b[0m\u001b[0;34m:\u001b[0m\u001b[0;34m\u001b[0m\u001b[0;34m\u001b[0m\u001b[0m\n\u001b[1;32m    458\u001b[0m         \u001b[0max\u001b[0m\u001b[0;34m.\u001b[0m\u001b[0mset_aspect\u001b[0m\u001b[0;34m(\u001b[0m\u001b[0;34m\"equal\"\u001b[0m\u001b[0;34m)\u001b[0m\u001b[0;34m\u001b[0m\u001b[0;34m\u001b[0m\u001b[0m\n\u001b[0;32m--> 459\u001b[0;31m     \u001b[0mplotter\u001b[0m\u001b[0;34m.\u001b[0m\u001b[0mplot\u001b[0m\u001b[0;34m(\u001b[0m\u001b[0max\u001b[0m\u001b[0;34m,\u001b[0m \u001b[0mcbar_ax\u001b[0m\u001b[0;34m,\u001b[0m \u001b[0mkwargs\u001b[0m\u001b[0;34m)\u001b[0m\u001b[0;34m\u001b[0m\u001b[0;34m\u001b[0m\u001b[0m\n\u001b[0m\u001b[1;32m    460\u001b[0m     \u001b[0;32mreturn\u001b[0m \u001b[0max\u001b[0m\u001b[0;34m\u001b[0m\u001b[0;34m\u001b[0m\u001b[0m\n\u001b[1;32m    461\u001b[0m \u001b[0;34m\u001b[0m\u001b[0m\n",
            "\u001b[0;32m/usr/local/lib/python3.10/dist-packages/seaborn/matrix.py\u001b[0m in \u001b[0;36mplot\u001b[0;34m(self, ax, cax, kws)\u001b[0m\n\u001b[1;32m    338\u001b[0m \u001b[0;34m\u001b[0m\u001b[0m\n\u001b[1;32m    339\u001b[0m         \u001b[0;31m# Possibly rotate them if they overlap\u001b[0m\u001b[0;34m\u001b[0m\u001b[0;34m\u001b[0m\u001b[0m\n\u001b[0;32m--> 340\u001b[0;31m         \u001b[0m_draw_figure\u001b[0m\u001b[0;34m(\u001b[0m\u001b[0max\u001b[0m\u001b[0;34m.\u001b[0m\u001b[0mfigure\u001b[0m\u001b[0;34m)\u001b[0m\u001b[0;34m\u001b[0m\u001b[0;34m\u001b[0m\u001b[0m\n\u001b[0m\u001b[1;32m    341\u001b[0m \u001b[0;34m\u001b[0m\u001b[0m\n\u001b[1;32m    342\u001b[0m         \u001b[0;32mif\u001b[0m \u001b[0maxis_ticklabels_overlap\u001b[0m\u001b[0;34m(\u001b[0m\u001b[0mxtl\u001b[0m\u001b[0;34m)\u001b[0m\u001b[0;34m:\u001b[0m\u001b[0;34m\u001b[0m\u001b[0;34m\u001b[0m\u001b[0m\n",
            "\u001b[0;32m/usr/local/lib/python3.10/dist-packages/seaborn/utils.py\u001b[0m in \u001b[0;36m_draw_figure\u001b[0;34m(fig)\u001b[0m\n\u001b[1;32m     78\u001b[0m     \u001b[0;34m\"\"\"Force draw of a matplotlib figure, accounting for back-compat.\"\"\"\u001b[0m\u001b[0;34m\u001b[0m\u001b[0;34m\u001b[0m\u001b[0m\n\u001b[1;32m     79\u001b[0m     \u001b[0;31m# See https://github.com/matplotlib/matplotlib/issues/19197 for context\u001b[0m\u001b[0;34m\u001b[0m\u001b[0;34m\u001b[0m\u001b[0m\n\u001b[0;32m---> 80\u001b[0;31m     \u001b[0mfig\u001b[0m\u001b[0;34m.\u001b[0m\u001b[0mcanvas\u001b[0m\u001b[0;34m.\u001b[0m\u001b[0mdraw\u001b[0m\u001b[0;34m(\u001b[0m\u001b[0;34m)\u001b[0m\u001b[0;34m\u001b[0m\u001b[0;34m\u001b[0m\u001b[0m\n\u001b[0m\u001b[1;32m     81\u001b[0m     \u001b[0;32mif\u001b[0m \u001b[0mfig\u001b[0m\u001b[0;34m.\u001b[0m\u001b[0mstale\u001b[0m\u001b[0;34m:\u001b[0m\u001b[0;34m\u001b[0m\u001b[0;34m\u001b[0m\u001b[0m\n\u001b[1;32m     82\u001b[0m         \u001b[0;32mtry\u001b[0m\u001b[0;34m:\u001b[0m\u001b[0;34m\u001b[0m\u001b[0;34m\u001b[0m\u001b[0m\n",
            "\u001b[0;32m/usr/local/lib/python3.10/dist-packages/matplotlib/backends/backend_agg.py\u001b[0m in \u001b[0;36mdraw\u001b[0;34m(self)\u001b[0m\n\u001b[1;32m    398\u001b[0m              (self.toolbar._wait_cursor_for_draw_cm() if self.toolbar\n\u001b[1;32m    399\u001b[0m               else nullcontext()):\n\u001b[0;32m--> 400\u001b[0;31m             \u001b[0mself\u001b[0m\u001b[0;34m.\u001b[0m\u001b[0mfigure\u001b[0m\u001b[0;34m.\u001b[0m\u001b[0mdraw\u001b[0m\u001b[0;34m(\u001b[0m\u001b[0mself\u001b[0m\u001b[0;34m.\u001b[0m\u001b[0mrenderer\u001b[0m\u001b[0;34m)\u001b[0m\u001b[0;34m\u001b[0m\u001b[0;34m\u001b[0m\u001b[0m\n\u001b[0m\u001b[1;32m    401\u001b[0m             \u001b[0;31m# A GUI class may be need to update a window using this draw, so\u001b[0m\u001b[0;34m\u001b[0m\u001b[0;34m\u001b[0m\u001b[0m\n\u001b[1;32m    402\u001b[0m             \u001b[0;31m# don't forget to call the superclass.\u001b[0m\u001b[0;34m\u001b[0m\u001b[0;34m\u001b[0m\u001b[0m\n",
            "\u001b[0;32m/usr/local/lib/python3.10/dist-packages/matplotlib/artist.py\u001b[0m in \u001b[0;36mdraw_wrapper\u001b[0;34m(artist, renderer, *args, **kwargs)\u001b[0m\n\u001b[1;32m     93\u001b[0m     \u001b[0;34m@\u001b[0m\u001b[0mwraps\u001b[0m\u001b[0;34m(\u001b[0m\u001b[0mdraw\u001b[0m\u001b[0;34m)\u001b[0m\u001b[0;34m\u001b[0m\u001b[0;34m\u001b[0m\u001b[0m\n\u001b[1;32m     94\u001b[0m     \u001b[0;32mdef\u001b[0m \u001b[0mdraw_wrapper\u001b[0m\u001b[0;34m(\u001b[0m\u001b[0martist\u001b[0m\u001b[0;34m,\u001b[0m \u001b[0mrenderer\u001b[0m\u001b[0;34m,\u001b[0m \u001b[0;34m*\u001b[0m\u001b[0margs\u001b[0m\u001b[0;34m,\u001b[0m \u001b[0;34m**\u001b[0m\u001b[0mkwargs\u001b[0m\u001b[0;34m)\u001b[0m\u001b[0;34m:\u001b[0m\u001b[0;34m\u001b[0m\u001b[0;34m\u001b[0m\u001b[0m\n\u001b[0;32m---> 95\u001b[0;31m         \u001b[0mresult\u001b[0m \u001b[0;34m=\u001b[0m \u001b[0mdraw\u001b[0m\u001b[0;34m(\u001b[0m\u001b[0martist\u001b[0m\u001b[0;34m,\u001b[0m \u001b[0mrenderer\u001b[0m\u001b[0;34m,\u001b[0m \u001b[0;34m*\u001b[0m\u001b[0margs\u001b[0m\u001b[0;34m,\u001b[0m \u001b[0;34m**\u001b[0m\u001b[0mkwargs\u001b[0m\u001b[0;34m)\u001b[0m\u001b[0;34m\u001b[0m\u001b[0;34m\u001b[0m\u001b[0m\n\u001b[0m\u001b[1;32m     96\u001b[0m         \u001b[0;32mif\u001b[0m \u001b[0mrenderer\u001b[0m\u001b[0;34m.\u001b[0m\u001b[0m_rasterizing\u001b[0m\u001b[0;34m:\u001b[0m\u001b[0;34m\u001b[0m\u001b[0;34m\u001b[0m\u001b[0m\n\u001b[1;32m     97\u001b[0m             \u001b[0mrenderer\u001b[0m\u001b[0;34m.\u001b[0m\u001b[0mstop_rasterizing\u001b[0m\u001b[0;34m(\u001b[0m\u001b[0;34m)\u001b[0m\u001b[0;34m\u001b[0m\u001b[0;34m\u001b[0m\u001b[0m\n",
            "\u001b[0;32m/usr/local/lib/python3.10/dist-packages/matplotlib/artist.py\u001b[0m in \u001b[0;36mdraw_wrapper\u001b[0;34m(artist, renderer)\u001b[0m\n\u001b[1;32m     70\u001b[0m                 \u001b[0mrenderer\u001b[0m\u001b[0;34m.\u001b[0m\u001b[0mstart_filter\u001b[0m\u001b[0;34m(\u001b[0m\u001b[0;34m)\u001b[0m\u001b[0;34m\u001b[0m\u001b[0;34m\u001b[0m\u001b[0m\n\u001b[1;32m     71\u001b[0m \u001b[0;34m\u001b[0m\u001b[0m\n\u001b[0;32m---> 72\u001b[0;31m             \u001b[0;32mreturn\u001b[0m \u001b[0mdraw\u001b[0m\u001b[0;34m(\u001b[0m\u001b[0martist\u001b[0m\u001b[0;34m,\u001b[0m \u001b[0mrenderer\u001b[0m\u001b[0;34m)\u001b[0m\u001b[0;34m\u001b[0m\u001b[0;34m\u001b[0m\u001b[0m\n\u001b[0m\u001b[1;32m     73\u001b[0m         \u001b[0;32mfinally\u001b[0m\u001b[0;34m:\u001b[0m\u001b[0;34m\u001b[0m\u001b[0;34m\u001b[0m\u001b[0m\n\u001b[1;32m     74\u001b[0m             \u001b[0;32mif\u001b[0m \u001b[0martist\u001b[0m\u001b[0;34m.\u001b[0m\u001b[0mget_agg_filter\u001b[0m\u001b[0;34m(\u001b[0m\u001b[0;34m)\u001b[0m \u001b[0;32mis\u001b[0m \u001b[0;32mnot\u001b[0m \u001b[0;32mNone\u001b[0m\u001b[0;34m:\u001b[0m\u001b[0;34m\u001b[0m\u001b[0;34m\u001b[0m\u001b[0m\n",
            "\u001b[0;32m/usr/local/lib/python3.10/dist-packages/matplotlib/figure.py\u001b[0m in \u001b[0;36mdraw\u001b[0;34m(self, renderer)\u001b[0m\n\u001b[1;32m   3138\u001b[0m \u001b[0;34m\u001b[0m\u001b[0m\n\u001b[1;32m   3139\u001b[0m             \u001b[0mself\u001b[0m\u001b[0;34m.\u001b[0m\u001b[0mpatch\u001b[0m\u001b[0;34m.\u001b[0m\u001b[0mdraw\u001b[0m\u001b[0;34m(\u001b[0m\u001b[0mrenderer\u001b[0m\u001b[0;34m)\u001b[0m\u001b[0;34m\u001b[0m\u001b[0;34m\u001b[0m\u001b[0m\n\u001b[0;32m-> 3140\u001b[0;31m             mimage._draw_list_compositing_images(\n\u001b[0m\u001b[1;32m   3141\u001b[0m                 renderer, self, artists, self.suppressComposite)\n\u001b[1;32m   3142\u001b[0m \u001b[0;34m\u001b[0m\u001b[0m\n",
            "\u001b[0;32m/usr/local/lib/python3.10/dist-packages/matplotlib/image.py\u001b[0m in \u001b[0;36m_draw_list_compositing_images\u001b[0;34m(renderer, parent, artists, suppress_composite)\u001b[0m\n\u001b[1;32m    129\u001b[0m     \u001b[0;32mif\u001b[0m \u001b[0mnot_composite\u001b[0m \u001b[0;32mor\u001b[0m \u001b[0;32mnot\u001b[0m \u001b[0mhas_images\u001b[0m\u001b[0;34m:\u001b[0m\u001b[0;34m\u001b[0m\u001b[0;34m\u001b[0m\u001b[0m\n\u001b[1;32m    130\u001b[0m         \u001b[0;32mfor\u001b[0m \u001b[0ma\u001b[0m \u001b[0;32min\u001b[0m \u001b[0martists\u001b[0m\u001b[0;34m:\u001b[0m\u001b[0;34m\u001b[0m\u001b[0;34m\u001b[0m\u001b[0m\n\u001b[0;32m--> 131\u001b[0;31m             \u001b[0ma\u001b[0m\u001b[0;34m.\u001b[0m\u001b[0mdraw\u001b[0m\u001b[0;34m(\u001b[0m\u001b[0mrenderer\u001b[0m\u001b[0;34m)\u001b[0m\u001b[0;34m\u001b[0m\u001b[0;34m\u001b[0m\u001b[0m\n\u001b[0m\u001b[1;32m    132\u001b[0m     \u001b[0;32melse\u001b[0m\u001b[0;34m:\u001b[0m\u001b[0;34m\u001b[0m\u001b[0;34m\u001b[0m\u001b[0m\n\u001b[1;32m    133\u001b[0m         \u001b[0;31m# Composite any adjacent images together\u001b[0m\u001b[0;34m\u001b[0m\u001b[0;34m\u001b[0m\u001b[0m\n",
            "\u001b[0;32m/usr/local/lib/python3.10/dist-packages/matplotlib/artist.py\u001b[0m in \u001b[0;36mdraw_wrapper\u001b[0;34m(artist, renderer)\u001b[0m\n\u001b[1;32m     70\u001b[0m                 \u001b[0mrenderer\u001b[0m\u001b[0;34m.\u001b[0m\u001b[0mstart_filter\u001b[0m\u001b[0;34m(\u001b[0m\u001b[0;34m)\u001b[0m\u001b[0;34m\u001b[0m\u001b[0;34m\u001b[0m\u001b[0m\n\u001b[1;32m     71\u001b[0m \u001b[0;34m\u001b[0m\u001b[0m\n\u001b[0;32m---> 72\u001b[0;31m             \u001b[0;32mreturn\u001b[0m \u001b[0mdraw\u001b[0m\u001b[0;34m(\u001b[0m\u001b[0martist\u001b[0m\u001b[0;34m,\u001b[0m \u001b[0mrenderer\u001b[0m\u001b[0;34m)\u001b[0m\u001b[0;34m\u001b[0m\u001b[0;34m\u001b[0m\u001b[0m\n\u001b[0m\u001b[1;32m     73\u001b[0m         \u001b[0;32mfinally\u001b[0m\u001b[0;34m:\u001b[0m\u001b[0;34m\u001b[0m\u001b[0;34m\u001b[0m\u001b[0m\n\u001b[1;32m     74\u001b[0m             \u001b[0;32mif\u001b[0m \u001b[0martist\u001b[0m\u001b[0;34m.\u001b[0m\u001b[0mget_agg_filter\u001b[0m\u001b[0;34m(\u001b[0m\u001b[0;34m)\u001b[0m \u001b[0;32mis\u001b[0m \u001b[0;32mnot\u001b[0m \u001b[0;32mNone\u001b[0m\u001b[0;34m:\u001b[0m\u001b[0;34m\u001b[0m\u001b[0;34m\u001b[0m\u001b[0m\n",
            "\u001b[0;32m/usr/local/lib/python3.10/dist-packages/matplotlib/axes/_base.py\u001b[0m in \u001b[0;36mdraw\u001b[0;34m(self, renderer)\u001b[0m\n\u001b[1;32m   3062\u001b[0m             \u001b[0m_draw_rasterized\u001b[0m\u001b[0;34m(\u001b[0m\u001b[0mself\u001b[0m\u001b[0;34m.\u001b[0m\u001b[0mfigure\u001b[0m\u001b[0;34m,\u001b[0m \u001b[0martists_rasterized\u001b[0m\u001b[0;34m,\u001b[0m \u001b[0mrenderer\u001b[0m\u001b[0;34m)\u001b[0m\u001b[0;34m\u001b[0m\u001b[0;34m\u001b[0m\u001b[0m\n\u001b[1;32m   3063\u001b[0m \u001b[0;34m\u001b[0m\u001b[0m\n\u001b[0;32m-> 3064\u001b[0;31m         mimage._draw_list_compositing_images(\n\u001b[0m\u001b[1;32m   3065\u001b[0m             renderer, self, artists, self.figure.suppressComposite)\n\u001b[1;32m   3066\u001b[0m \u001b[0;34m\u001b[0m\u001b[0m\n",
            "\u001b[0;32m/usr/local/lib/python3.10/dist-packages/matplotlib/image.py\u001b[0m in \u001b[0;36m_draw_list_compositing_images\u001b[0;34m(renderer, parent, artists, suppress_composite)\u001b[0m\n\u001b[1;32m    129\u001b[0m     \u001b[0;32mif\u001b[0m \u001b[0mnot_composite\u001b[0m \u001b[0;32mor\u001b[0m \u001b[0;32mnot\u001b[0m \u001b[0mhas_images\u001b[0m\u001b[0;34m:\u001b[0m\u001b[0;34m\u001b[0m\u001b[0;34m\u001b[0m\u001b[0m\n\u001b[1;32m    130\u001b[0m         \u001b[0;32mfor\u001b[0m \u001b[0ma\u001b[0m \u001b[0;32min\u001b[0m \u001b[0martists\u001b[0m\u001b[0;34m:\u001b[0m\u001b[0;34m\u001b[0m\u001b[0;34m\u001b[0m\u001b[0m\n\u001b[0;32m--> 131\u001b[0;31m             \u001b[0ma\u001b[0m\u001b[0;34m.\u001b[0m\u001b[0mdraw\u001b[0m\u001b[0;34m(\u001b[0m\u001b[0mrenderer\u001b[0m\u001b[0;34m)\u001b[0m\u001b[0;34m\u001b[0m\u001b[0;34m\u001b[0m\u001b[0m\n\u001b[0m\u001b[1;32m    132\u001b[0m     \u001b[0;32melse\u001b[0m\u001b[0;34m:\u001b[0m\u001b[0;34m\u001b[0m\u001b[0;34m\u001b[0m\u001b[0m\n\u001b[1;32m    133\u001b[0m         \u001b[0;31m# Composite any adjacent images together\u001b[0m\u001b[0;34m\u001b[0m\u001b[0;34m\u001b[0m\u001b[0m\n",
            "\u001b[0;32m/usr/local/lib/python3.10/dist-packages/matplotlib/artist.py\u001b[0m in \u001b[0;36mdraw_wrapper\u001b[0;34m(artist, renderer)\u001b[0m\n\u001b[1;32m     70\u001b[0m                 \u001b[0mrenderer\u001b[0m\u001b[0;34m.\u001b[0m\u001b[0mstart_filter\u001b[0m\u001b[0;34m(\u001b[0m\u001b[0;34m)\u001b[0m\u001b[0;34m\u001b[0m\u001b[0;34m\u001b[0m\u001b[0m\n\u001b[1;32m     71\u001b[0m \u001b[0;34m\u001b[0m\u001b[0m\n\u001b[0;32m---> 72\u001b[0;31m             \u001b[0;32mreturn\u001b[0m \u001b[0mdraw\u001b[0m\u001b[0;34m(\u001b[0m\u001b[0martist\u001b[0m\u001b[0;34m,\u001b[0m \u001b[0mrenderer\u001b[0m\u001b[0;34m)\u001b[0m\u001b[0;34m\u001b[0m\u001b[0;34m\u001b[0m\u001b[0m\n\u001b[0m\u001b[1;32m     73\u001b[0m         \u001b[0;32mfinally\u001b[0m\u001b[0;34m:\u001b[0m\u001b[0;34m\u001b[0m\u001b[0;34m\u001b[0m\u001b[0m\n\u001b[1;32m     74\u001b[0m             \u001b[0;32mif\u001b[0m \u001b[0martist\u001b[0m\u001b[0;34m.\u001b[0m\u001b[0mget_agg_filter\u001b[0m\u001b[0;34m(\u001b[0m\u001b[0;34m)\u001b[0m \u001b[0;32mis\u001b[0m \u001b[0;32mnot\u001b[0m \u001b[0;32mNone\u001b[0m\u001b[0;34m:\u001b[0m\u001b[0;34m\u001b[0m\u001b[0;34m\u001b[0m\u001b[0m\n",
            "\u001b[0;32m/usr/local/lib/python3.10/dist-packages/matplotlib/collections.py\u001b[0m in \u001b[0;36mdraw\u001b[0;34m(self, renderer)\u001b[0m\n\u001b[1;32m   2096\u001b[0m                 gc, triangles, colors, transform.frozen())\n\u001b[1;32m   2097\u001b[0m         \u001b[0;32melse\u001b[0m\u001b[0;34m:\u001b[0m\u001b[0;34m\u001b[0m\u001b[0;34m\u001b[0m\u001b[0m\n\u001b[0;32m-> 2098\u001b[0;31m             renderer.draw_quad_mesh(\n\u001b[0m\u001b[1;32m   2099\u001b[0m                 \u001b[0mgc\u001b[0m\u001b[0;34m,\u001b[0m \u001b[0mtransform\u001b[0m\u001b[0;34m.\u001b[0m\u001b[0mfrozen\u001b[0m\u001b[0;34m(\u001b[0m\u001b[0;34m)\u001b[0m\u001b[0;34m,\u001b[0m\u001b[0;34m\u001b[0m\u001b[0;34m\u001b[0m\u001b[0m\n\u001b[1;32m   2100\u001b[0m                 \u001b[0mcoordinates\u001b[0m\u001b[0;34m.\u001b[0m\u001b[0mshape\u001b[0m\u001b[0;34m[\u001b[0m\u001b[0;36m1\u001b[0m\u001b[0;34m]\u001b[0m \u001b[0;34m-\u001b[0m \u001b[0;36m1\u001b[0m\u001b[0;34m,\u001b[0m \u001b[0mcoordinates\u001b[0m\u001b[0;34m.\u001b[0m\u001b[0mshape\u001b[0m\u001b[0;34m[\u001b[0m\u001b[0;36m0\u001b[0m\u001b[0;34m]\u001b[0m \u001b[0;34m-\u001b[0m \u001b[0;36m1\u001b[0m\u001b[0;34m,\u001b[0m\u001b[0;34m\u001b[0m\u001b[0;34m\u001b[0m\u001b[0m\n",
            "\u001b[0;31mKeyboardInterrupt\u001b[0m: "
          ]
        },
        {
          "output_type": "display_data",
          "data": {
            "text/plain": [
              "<Figure size 1000x300 with 2 Axes>"
            ],
            "image/png": "[encoded data removed]"
          },
          "metadata": {}
        }
      ]
    },
    {
      "cell_type": "code",
      "execution_count": null,
      "metadata": {
        "id": "WIm1nZqBx7FH"
      },
      "outputs": [],
      "source": [
        "from sklearn.model_selection import GridSearchCV\n",
        "\n",
        "clf = XGBRegressor()\n",
        "parameters = {\n",
        "     \"eta\"    : [ .01 ,0.05, 0.10, 0.30],\n",
        "     \"max_depth\"        : [ 5, 6, 8, 10],\n",
        "    #  \"min_child_weight\" : [ 1, 3, 5 ],\n",
        "     \"gamma\"            : [ 0.0, 0.1, 0.2 , 0.3, 0.4 ],\n",
        "    #  \"colsample_bytree\" : [ 0.3, 0.4, 0.5 , 0.7 ],\n",
        "     \"n_estimators\"     : [10, 20, 30],\n",
        "      'eval_metric':['rmse'],\n",
        "     'tree_method':['gpu_hist'],\n",
        "     }\n",
        "\n",
        "grid = GridSearchCV(clf, parameters, n_jobs=7, cv=3, verbose=4)"
      ]
    },
    {
      "cell_type": "code",
      "execution_count": null,
      "metadata": {
        "id": "dfXdBtdyx_fq"
      },
      "outputs": [],
      "source": [
        "grid.fit(X, Y)\n",
        "grid.best_params_"
      ]
    }
  ],
  "metadata": {
    "accelerator": "GPU",
    "colab": {
      "provenance": [],
      "include_colab_link": true
    },
    "kernelspec": {
      "display_name": "Python 3",
      "name": "python3"
    },
    "language_info": {
      "name": "python"
    }
  },
  "nbformat": 4,
  "nbformat_minor": 0
}
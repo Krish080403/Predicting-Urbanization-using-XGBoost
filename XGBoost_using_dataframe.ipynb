{
  "cells": [
    {
      "cell_type": "markdown",
      "metadata": {
        "id": "view-in-github",
        "colab_type": "text"
      },
      "source": [
        "<a href=\"https://colab.research.google.com/github/Krish080403/Predicting-Urbanization-using-XGBoost/blob/main/XGBoost_using_dataframe.ipynb\" target=\"_parent\"><img src=\"https://colab.research.google.com/assets/colab-badge.svg\" alt=\"Open In Colab\"/></a>"
      ]
    },
    {
      "cell_type": "code",
      "execution_count": null,
      "metadata": {
        "id": "feGwrtdTMNi_",
        "colab": {
          "base_uri": "https://localhost:8080/"
        },
        "outputId": "132ef614-25d3-45c7-b84a-016e4d3b51a4"
      },
      "outputs": [
        {
          "output_type": "stream",
          "name": "stdout",
          "text": [
            "Requirement already satisfied: gdal in /usr/local/lib/python3.10/dist-packages (3.3.2)\n"
          ]
        }
      ],
      "source": [
        "%pip install gdal"
      ]
    },
    {
      "cell_type": "code",
      "execution_count": null,
      "metadata": {
        "id": "31J_A2ytMPDx"
      },
      "outputs": [],
      "source": [
        "from osgeo import gdal\n",
        "from xgboost import XGBRegressor\n",
        "import pandas as pd\n",
        "import numpy as np\n",
        "import matplotlib.pyplot as plt\n",
        "from sklearn import tree\n",
        "from sklearn.model_selection import train_test_split\n",
        "from sklearn.tree import DecisionTreeRegressor\n",
        "import matplotlib.pyplot as plt\n",
        "import seaborn as sns"
      ]
    },
    {
      "cell_type": "code",
      "source": [
        "def addNaNRow(input_array):\n",
        "    new_row = np.empty((1, input_array.shape[1]))\n",
        "    new_row[:] = np.nan\n",
        "    input_array = np.append(input_array, new_row, axis=0)\n",
        "\n",
        "    return input_array\n",
        "\n",
        "\n",
        "def addNaNCol(input_array):\n",
        "    new_col = np.empty((input_array.shape[0], 1))\n",
        "    new_col[:] = np.nan\n",
        "    input_array = np.append(input_array, new_col, axis=1)\n",
        "\n",
        "    return input_array"
      ],
      "metadata": {
        "id": "uHOnTUEq9AJN"
      },
      "execution_count": null,
      "outputs": []
    },
    {
      "cell_type": "code",
      "source": [
        "pathname = '/content/drive/MyDrive/AdjustedData_23_metre_Resolution/'"
      ],
      "metadata": {
        "id": "qROzxbRo1icr"
      },
      "execution_count": null,
      "outputs": []
    },
    {
      "cell_type": "code",
      "execution_count": null,
      "metadata": {
        "id": "7ih3cwrrO1Bu"
      },
      "outputs": [],
      "source": [
        "# All features in X imported and read as Array\n",
        "\n",
        "popden = gdal.Open(pathname+\"popden.tif\")\n",
        "popden = popden.ReadAsArray()\n",
        "popden = np.where(popden < 0 , np.nan, popden)\n",
        "popden = addNaNRow(popden)\n",
        "popden = addNaNCol(popden)\n",
        "\n",
        "(l,w) = popden.shape\n",
        "popden = np.reshape(popden, (l*w,1))"
      ]
    },
    {
      "cell_type": "code",
      "execution_count": null,
      "metadata": {
        "id": "FwmTmlfuMN5y"
      },
      "outputs": [],
      "source": [
        "Slope = gdal.Open(pathname+\"slope.tif\")\n",
        "Slope = Slope.ReadAsArray()\n",
        "Slope = np.where(Slope < 0, np.nan, Slope)\n",
        "Slope = np.reshape(Slope, (l*w,1))"
      ]
    },
    {
      "cell_type": "code",
      "execution_count": null,
      "metadata": {
        "id": "2t9O9sy1Miu1"
      },
      "outputs": [],
      "source": [
        "Friction = gdal.Open(pathname+\"friction.tif\")\n",
        "Friction = Friction.ReadAsArray()\n",
        "Friction = np.where(Friction < 0 , np.nan, Friction)\n",
        "Friction = np.reshape(Friction, (l*w,1))"
      ]
    },
    {
      "cell_type": "code",
      "execution_count": null,
      "metadata": {
        "id": "4nb2q3fxMoM0"
      },
      "outputs": [],
      "source": [
        "Elevation = gdal.Open(pathname+\"elevation.tif\")\n",
        "Elevation = Elevation.ReadAsArray()\n",
        "Elevation = np.where(Elevation < 0 , np.nan, Elevation)\n",
        "Elevation = np.reshape(Elevation, (l*w,1))"
      ]
    },
    {
      "cell_type": "code",
      "execution_count": null,
      "metadata": {
        "id": "AphX38_RMrUh"
      },
      "outputs": [],
      "source": [
        "gdp2005 = gdal.Open(pathname+\"gdp2005.tif\")\n",
        "gdp2005 = gdp2005.ReadAsArray()\n",
        "gdp2005 = np.where(gdp2005 < 0 , np.nan, gdp2005)\n",
        "gdp2005 = np.reshape(gdp2005, (l*w,1))"
      ]
    },
    {
      "cell_type": "code",
      "source": [
        "gdp2011 = gdal.Open(pathname+\"gdp2011.tif\")\n",
        "gdp2011 = gdp2011.ReadAsArray()\n",
        "gdp2011 = np.where(gdp2011 < 0 , np.nan, gdp2011)"
      ],
      "metadata": {
        "id": "8cvm-Wd63llP"
      },
      "execution_count": null,
      "outputs": []
    },
    {
      "cell_type": "code",
      "source": [
        "gdp2015 = gdal.Open(pathname+\"gdp2015.tif\")\n",
        "gdp2015 = gdp2015.ReadAsArray()\n",
        "gdp2015 = np.where(gdp2015 < 0 , np.nan, gdp2015)"
      ],
      "metadata": {
        "id": "EKGV3CYB3oJz"
      },
      "execution_count": null,
      "outputs": []
    },
    {
      "cell_type": "code",
      "execution_count": null,
      "metadata": {
        "id": "tHcJhEJNMzT-"
      },
      "outputs": [],
      "source": [
        "floods = gdal.Open(pathname+\"floods.tif\")\n",
        "floods = floods.ReadAsArray()\n",
        "floods = np.where(floods < 0 , np.nan, floods)\n",
        "floods = np.reshape(floods, (l*w,1))"
      ]
    },
    {
      "cell_type": "code",
      "execution_count": null,
      "metadata": {
        "id": "hOzqBRr3M2Yj"
      },
      "outputs": [],
      "source": [
        "accessibility = gdal.Open(pathname+\"accessibilty.tif\")\n",
        "accessibility = accessibility.ReadAsArray()\n",
        "accessibility = np.where(accessibility < 0 , np.nan, accessibility)\n",
        "accessibility = np.reshape(accessibility, (l*w,1))"
      ]
    },
    {
      "cell_type": "code",
      "source": [
        "Temp2005 = gdal.Open(pathname+\"Temp_2005.tif\")\n",
        "Temp2005 = Temp2005.ReadAsArray()\n",
        "Temp2005 = addNaNRow(Temp2005)\n",
        "Temp2005 = np.where(Temp2005 < 0 , np.nan, Temp2005)\n",
        "Temp2005 = np.reshape(Temp2005, (l*w,1))"
      ],
      "metadata": {
        "id": "q2vL_hiP2g4c"
      },
      "execution_count": null,
      "outputs": []
    },
    {
      "cell_type": "code",
      "execution_count": null,
      "metadata": {
        "id": "lhArb_JyCDsz"
      },
      "outputs": [],
      "source": [
        "Temp2011 = gdal.Open(pathname+\"Temp_2011.tif\")\n",
        "Temp2011 = Temp2011.ReadAsArray()\n",
        "Temp2011 = addNaNRow(Temp2011)\n",
        "Temp2011 = np.where(Temp2011 < 0 , np.nan, Temp2011)\n",
        "Temp2011 = np.reshape(Temp2011, (l*w,1))"
      ]
    },
    {
      "cell_type": "code",
      "source": [
        "Temp2015 = gdal.Open(pathname+\"Temp_2015.tif\")\n",
        "Temp2015 = Temp2015.ReadAsArray()\n",
        "Temp2015 = addNaNRow(Temp2015)\n",
        "Temp2015 = np.where(Temp2015 < 0 , np.nan, Temp2015)\n",
        "Temp2015 = np.reshape(Temp2015, (l*w,1))"
      ],
      "metadata": {
        "id": "q-Vjy0YC26Aw"
      },
      "execution_count": null,
      "outputs": []
    },
    {
      "cell_type": "code",
      "source": [
        "Temp2020 = gdal.Open(pathname+\"Temp_2020.tif\")\n",
        "Temp2020 = Temp2020.ReadAsArray()\n",
        "Temp2020 = addNaNRow(Temp2020)\n",
        "Temp2020 = np.where(Temp2020 < 0 , np.nan, Temp2020)\n",
        "Temp2020 = np.reshape(Temp2020, (l*w,1))"
      ],
      "metadata": {
        "id": "vdjU69I5XIxY"
      },
      "execution_count": null,
      "outputs": []
    },
    {
      "cell_type": "code",
      "execution_count": null,
      "metadata": {
        "id": "sxqwgZ1ONBYN"
      },
      "outputs": [],
      "source": [
        "builtup_05_06 = gdal.Open(pathname+\"05_06_builtup.tif\")\n",
        "builtup_05_06 = builtup_05_06.ReadAsArray()\n",
        "builtup_05_06 = np.where(builtup_05_06 < 0 , np.nan, builtup_05_06)\n",
        "builtup_05_06 = np.reshape(builtup_05_06, (l*w,1))"
      ]
    },
    {
      "cell_type": "code",
      "execution_count": null,
      "metadata": {
        "id": "W16pi_z_24Of"
      },
      "outputs": [],
      "source": [
        "builtup_11_12 = gdal.Open(pathname+\"11_12_builtup_some.tif\")\n",
        "builtup_11_12 = builtup_11_12.ReadAsArray()\n",
        "builtup_11_12 = np.where(builtup_11_12 < 0 , np.nan, builtup_11_12)\n",
        "builtup_11_12 = np.reshape(builtup_11_12, (l*w,1))"
      ]
    },
    {
      "cell_type": "code",
      "execution_count": null,
      "metadata": {
        "id": "ibCKH_8D3AxU"
      },
      "outputs": [],
      "source": [
        "builtup_15_16 = gdal.Open(pathname+\"15_16_builtup.tif\")\n",
        "builtup_15_16 = builtup_15_16.ReadAsArray()\n",
        "builtup_15_16 = np.where(builtup_15_16 < 0 , np.nan, builtup_15_16)\n",
        "builtup_15_16 = np.reshape(builtup_15_16, (l*w,1))"
      ]
    },
    {
      "cell_type": "code",
      "source": [
        "builtup_20_21 = gdal.Open(pathname+\"20_21_builtup.tif\")\n",
        "builtup_20_21 = builtup_20_21.ReadAsArray()\n",
        "builtup_20_21 = np.where(builtup_20_21 < 0 , np.nan, builtup_20_21)\n",
        "builtup_20_21 = addNaNCol(builtup_20_21)\n",
        "builtup_20_21 = np.reshape(builtup_20_21, (l*w,1))"
      ],
      "metadata": {
        "id": "KAb5AoZ7739-"
      },
      "execution_count": null,
      "outputs": []
    },
    {
      "cell_type": "code",
      "execution_count": null,
      "metadata": {
        "id": "MyEKSThZddsV"
      },
      "outputs": [],
      "source": [
        "#Opening and Reading Y data\n",
        "# Subtracted Maps\n",
        "Subtracted_Urban_11_05_data = gdal.Open(pathname+\"Sub_11-05.tif\")\n",
        "Subtracted_Urban_11_05 = Subtracted_Urban_11_05_data.ReadAsArray()\n",
        "Subtracted_Urban_11_05 = np.where(Subtracted_Urban_11_05 < 0 , 0, Subtracted_Urban_11_05)\n",
        "Subtracted_Urban_11_05 = np.reshape(Subtracted_Urban_11_05, (l*w,1))\n",
        "\n",
        "Subtracted_Urban_15_05_data = gdal.Open(pathname+\"Sub_15-05.tif\")\n",
        "Subtracted_Urban_15_05 = Subtracted_Urban_15_05_data.ReadAsArray()\n",
        "Subtracted_Urban_15_05 = np.where(Subtracted_Urban_15_05 < 0 , 0, Subtracted_Urban_15_05)\n",
        "Subtracted_Urban_15_05 = np.reshape(Subtracted_Urban_15_05, (l*w,1))\n",
        "\n",
        "Subtracted_Urban_21_11_data = gdal.Open(pathname+\"Sub_21-11.tif\")\n",
        "Subtracted_Urban_21_11 = Subtracted_Urban_21_11_data.ReadAsArray()\n",
        "Subtracted_Urban_21_11 = np.where(Subtracted_Urban_21_11 < 0 , 0, Subtracted_Urban_21_11)\n",
        "Subtracted_Urban_21_11 = np.reshape(Subtracted_Urban_21_11, (l*w,1))"
      ]
    },
    {
      "cell_type": "code",
      "source": [
        "Y_array = Subtracted_Urban_15_05\n",
        "previousBuiltup = builtup_05_06\n",
        "Temp = Temp2005\n",
        "gdp = gdp2005"
      ],
      "metadata": {
        "id": "6aFK7we1EZ63"
      },
      "execution_count": null,
      "outputs": []
    },
    {
      "cell_type": "code",
      "execution_count": null,
      "metadata": {
        "id": "nQvpgnh0NFOH"
      },
      "outputs": [],
      "source": [
        "assert Slope.shape == popden.shape == Friction.shape == Elevation.shape == gdp2005.shape == floods.shape == accessibility.shape ==Temp.shape\n",
        "assert builtup_05_06.shape == builtup_11_12.shape == builtup_15_16.shape == builtup_20_21.shape == (l*w,1)\n",
        "\n",
        "assert Subtracted_Urban_21_11.shape == Subtracted_Urban_11_05.shape == (l*w,1)\n"
      ]
    },
    {
      "cell_type": "code",
      "execution_count": null,
      "metadata": {
        "id": "jHWElx-HRD6R"
      },
      "outputs": [],
      "source": [
        "def showFeatureMaps():\n",
        "  fig, axes = plt.subplots(3, 3, figsize=(40, 15))\n",
        "  sns.heatmap(ax=axes[0, 0], data=Slope, square=True, cmap=\"crest\").set_title('Kamrup Slope')\n",
        "  sns.heatmap(ax=axes[0, 1], data=Elevation, square=True, cmap=\"crest\").set_title('Kamrup Elevation')\n",
        "  sns.heatmap(ax=axes[0, 2], data=Friction, square=True, cmap=\"crest\").set_title('Kamrup Friction')\n",
        "  sns.heatmap(ax=axes[1, 0], data=accessibility, square=True, cmap=\"crest\").set_title('Kamrup Accessibility')\n",
        "  sns.heatmap(ax=axes[1, 1], data=popden, square=True, cmap=\"crest\").set_title('Kamrup Population Density')\n",
        "  sns.heatmap(ax=axes[1, 2], data=Temp, square=True, cmap=\"crest\").set_title('Kamrup Temperature')\n",
        "  sns.heatmap(ax=axes[2, 0], data=floods, square=True, cmap=\"crest\").set_title('Kamrup Floods')\n",
        "  sns.heatmap(ax=axes[2, 1], data=gdp2005, square=True, cmap=\"crest\").set_title('Kamrup GDP 2005')\n"
      ]
    },
    {
      "cell_type": "code",
      "execution_count": null,
      "metadata": {
        "id": "OB8GfzwpU31Y"
      },
      "outputs": [],
      "source": [
        "def showBuiltupMaps():\n",
        "  fig, axes = plt.subplots(2, 3, figsize=(40, 10))\n",
        "  sns.heatmap(ax=axes[0,0], data=builtup_05_06, cmap=\"crest\").set_title('Kamrup Builtip 2005-06')\n",
        "  sns.heatmap(ax=axes[0,1], data=builtup_11_12, cmap=\"crest\").set_title('Kamrup Builtip 2011-12')\n",
        "  sns.heatmap(ax=axes[0,2], data=builtup_15_16, cmap=\"crest\").set_title('Kamrup Builtip 2015-2016')\n",
        "  sns.heatmap(ax=axes[1,0], data=builtup_20_21, cmap=\"crest\").set_title('Kamrup Builtip 2020-2021')\n",
        "\n",
        "# showBuiltupMaps()"
      ]
    },
    {
      "cell_type": "code",
      "execution_count": null,
      "metadata": {
        "id": "CYdH3lvIZhvp"
      },
      "outputs": [],
      "source": [
        "df = pd.DataFrame({\n",
        "    'Slope': Slope.flatten(),\n",
        "    'Elevation': Elevation.flatten(),\n",
        "    'PopDen': popden.flatten(),\n",
        "    'Friction': Friction.flatten(),\n",
        "    'Floods': floods.flatten(),\n",
        "    'Accessibility': accessibility.flatten(),\n",
        "    'GDP': gdp.flatten(),\n",
        "    'Previous_builtup': previousBuiltup.flatten(),\n",
        "    'Temp':Temp.flatten(),\n",
        "    'Y': Y_array.flatten(),\n",
        "})\n",
        "\n",
        "X = df.drop('Y', axis=1)\n",
        "Y = df['Y']"
      ]
    },
    {
      "cell_type": "code",
      "execution_count": null,
      "metadata": {
        "id": "mkgxkpLYekCJ",
        "colab": {
          "base_uri": "https://localhost:8080/",
          "height": 364
        },
        "outputId": "a4992445-6b81-424f-e756-6451ea8c5455"
      },
      "outputs": [
        {
          "output_type": "execute_result",
          "data": {
            "text/plain": [
              "              Slope     Elevation        PopDen      Friction        Floods  \\\n",
              "count  1.937682e+06  1.939210e+06  1.937869e+06  1.935703e+06  1.939194e+06   \n",
              "mean   8.600398e-01  8.232493e-01  1.338998e-01  8.634150e-01  8.882453e-01   \n",
              "std    1.367591e-01  1.472543e-01  1.862207e-01  1.828166e-01  2.511740e-01   \n",
              "min    7.491708e-02  0.000000e+00  0.000000e+00  1.926445e-02  0.000000e+00   \n",
              "25%    7.715124e-01  7.523553e-01  0.000000e+00  7.655186e-01  1.000000e+00   \n",
              "50%    9.176646e-01  9.030955e-01  5.982101e-02  9.616657e-01  1.000000e+00   \n",
              "75%    9.706095e-01  9.259758e-01  1.912388e-01  9.809301e-01  1.000000e+00   \n",
              "max    1.000000e+00  1.000000e+00  1.000000e+00  1.000000e+00  1.000000e+00   \n",
              "\n",
              "       Accessibility           GDP  Previous_builtup          Temp  \\\n",
              "count   1.935918e+06  1.939170e+06      1.939268e+06  1.939176e+06   \n",
              "mean    7.862569e-01  1.821177e-01      1.292622e-01  5.588484e-01   \n",
              "std     1.607000e-01  2.751711e-01      3.354900e-01  1.685054e-01   \n",
              "min     0.000000e+00  0.000000e+00      0.000000e+00  0.000000e+00   \n",
              "25%     7.155893e-01  1.772051e-02      0.000000e+00  4.451104e-01   \n",
              "50%     8.263523e-01  4.634973e-02      0.000000e+00  5.684696e-01   \n",
              "75%     9.018762e-01  1.996024e-01      0.000000e+00  6.780782e-01   \n",
              "max     1.000000e+00  1.000000e+00      1.000000e+00  1.000000e+00   \n",
              "\n",
              "                  Y  \n",
              "count  3.488477e+06  \n",
              "mean   2.022774e-02  \n",
              "std    1.407785e-01  \n",
              "min    0.000000e+00  \n",
              "25%    0.000000e+00  \n",
              "50%    0.000000e+00  \n",
              "75%    0.000000e+00  \n",
              "max    1.000000e+00  "
            ],
            "text/html": [
              "\n",
              "\n",
              "  <div id=\"df-bef1275b-af60-4dc1-8f93-a4a844f3449b\">\n",
              "    <div class=\"colab-df-container\">\n",
              "      <div>\n",
              "<style scoped>\n",
              "    .dataframe tbody tr th:only-of-type {\n",
              "        vertical-align: middle;\n",
              "    }\n",
              "\n",
              "    .dataframe tbody tr th {\n",
              "        vertical-align: top;\n",
              "    }\n",
              "\n",
              "    .dataframe thead th {\n",
              "        text-align: right;\n",
              "    }\n",
              "</style>\n",
              "<table border=\"1\" class=\"dataframe\">\n",
              "  <thead>\n",
              "    <tr style=\"text-align: right;\">\n",
              "      <th></th>\n",
              "      <th>Slope</th>\n",
              "      <th>Elevation</th>\n",
              "      <th>PopDen</th>\n",
              "      <th>Friction</th>\n",
              "      <th>Floods</th>\n",
              "      <th>Accessibility</th>\n",
              "      <th>GDP</th>\n",
              "      <th>Previous_builtup</th>\n",
              "      <th>Temp</th>\n",
              "      <th>Y</th>\n",
              "    </tr>\n",
              "  </thead>\n",
              "  <tbody>\n",
              "    <tr>\n",
              "      <th>count</th>\n",
              "      <td>1.937682e+06</td>\n",
              "      <td>1.939210e+06</td>\n",
              "      <td>1.937869e+06</td>\n",
              "      <td>1.935703e+06</td>\n",
              "      <td>1.939194e+06</td>\n",
              "      <td>1.935918e+06</td>\n",
              "      <td>1.939170e+06</td>\n",
              "      <td>1.939268e+06</td>\n",
              "      <td>1.939176e+06</td>\n",
              "      <td>3.488477e+06</td>\n",
              "    </tr>\n",
              "    <tr>\n",
              "      <th>mean</th>\n",
              "      <td>8.600398e-01</td>\n",
              "      <td>8.232493e-01</td>\n",
              "      <td>1.338998e-01</td>\n",
              "      <td>8.634150e-01</td>\n",
              "      <td>8.882453e-01</td>\n",
              "      <td>7.862569e-01</td>\n",
              "      <td>1.821177e-01</td>\n",
              "      <td>1.292622e-01</td>\n",
              "      <td>5.588484e-01</td>\n",
              "      <td>2.022774e-02</td>\n",
              "    </tr>\n",
              "    <tr>\n",
              "      <th>std</th>\n",
              "      <td>1.367591e-01</td>\n",
              "      <td>1.472543e-01</td>\n",
              "      <td>1.862207e-01</td>\n",
              "      <td>1.828166e-01</td>\n",
              "      <td>2.511740e-01</td>\n",
              "      <td>1.607000e-01</td>\n",
              "      <td>2.751711e-01</td>\n",
              "      <td>3.354900e-01</td>\n",
              "      <td>1.685054e-01</td>\n",
              "      <td>1.407785e-01</td>\n",
              "    </tr>\n",
              "    <tr>\n",
              "      <th>min</th>\n",
              "      <td>7.491708e-02</td>\n",
              "      <td>0.000000e+00</td>\n",
              "      <td>0.000000e+00</td>\n",
              "      <td>1.926445e-02</td>\n",
              "      <td>0.000000e+00</td>\n",
              "      <td>0.000000e+00</td>\n",
              "      <td>0.000000e+00</td>\n",
              "      <td>0.000000e+00</td>\n",
              "      <td>0.000000e+00</td>\n",
              "      <td>0.000000e+00</td>\n",
              "    </tr>\n",
              "    <tr>\n",
              "      <th>25%</th>\n",
              "      <td>7.715124e-01</td>\n",
              "      <td>7.523553e-01</td>\n",
              "      <td>0.000000e+00</td>\n",
              "      <td>7.655186e-01</td>\n",
              "      <td>1.000000e+00</td>\n",
              "      <td>7.155893e-01</td>\n",
              "      <td>1.772051e-02</td>\n",
              "      <td>0.000000e+00</td>\n",
              "      <td>4.451104e-01</td>\n",
              "      <td>0.000000e+00</td>\n",
              "    </tr>\n",
              "    <tr>\n",
              "      <th>50%</th>\n",
              "      <td>9.176646e-01</td>\n",
              "      <td>9.030955e-01</td>\n",
              "      <td>5.982101e-02</td>\n",
              "      <td>9.616657e-01</td>\n",
              "      <td>1.000000e+00</td>\n",
              "      <td>8.263523e-01</td>\n",
              "      <td>4.634973e-02</td>\n",
              "      <td>0.000000e+00</td>\n",
              "      <td>5.684696e-01</td>\n",
              "      <td>0.000000e+00</td>\n",
              "    </tr>\n",
              "    <tr>\n",
              "      <th>75%</th>\n",
              "      <td>9.706095e-01</td>\n",
              "      <td>9.259758e-01</td>\n",
              "      <td>1.912388e-01</td>\n",
              "      <td>9.809301e-01</td>\n",
              "      <td>1.000000e+00</td>\n",
              "      <td>9.018762e-01</td>\n",
              "      <td>1.996024e-01</td>\n",
              "      <td>0.000000e+00</td>\n",
              "      <td>6.780782e-01</td>\n",
              "      <td>0.000000e+00</td>\n",
              "    </tr>\n",
              "    <tr>\n",
              "      <th>max</th>\n",
              "      <td>1.000000e+00</td>\n",
              "      <td>1.000000e+00</td>\n",
              "      <td>1.000000e+00</td>\n",
              "      <td>1.000000e+00</td>\n",
              "      <td>1.000000e+00</td>\n",
              "      <td>1.000000e+00</td>\n",
              "      <td>1.000000e+00</td>\n",
              "      <td>1.000000e+00</td>\n",
              "      <td>1.000000e+00</td>\n",
              "      <td>1.000000e+00</td>\n",
              "    </tr>\n",
              "  </tbody>\n",
              "</table>\n",
              "</div>\n",
              "      <button class=\"colab-df-convert\" onclick=\"convertToInteractive('df-bef1275b-af60-4dc1-8f93-a4a844f3449b')\"\n",
              "              title=\"Convert this dataframe to an interactive table.\"\n",
              "              style=\"display:none;\">\n",
              "\n",
              "  <svg xmlns=\"http://www.w3.org/2000/svg\" height=\"24px\"viewBox=\"0 0 24 24\"\n",
              "       width=\"24px\">\n",
              "    <path d=\"M0 0h24v24H0V0z\" fill=\"none\"/>\n",
              "    <path d=\"M18.56 5.44l.94 2.06.94-2.06 2.06-.94-2.06-.94-.94-2.06-.94 2.06-2.06.94zm-11 1L8.5 8.5l.94-2.06 2.06-.94-2.06-.94L8.5 2.5l-.94 2.06-2.06.94zm10 10l.94 2.06.94-2.06 2.06-.94-2.06-.94-.94-2.06-.94 2.06-2.06.94z\"/><path d=\"M17.41 7.96l-1.37-1.37c-.4-.4-.92-.59-1.43-.59-.52 0-1.04.2-1.43.59L10.3 9.45l-7.72 7.72c-.78.78-.78 2.05 0 2.83L4 21.41c.39.39.9.59 1.41.59.51 0 1.02-.2 1.41-.59l7.78-7.78 2.81-2.81c.8-.78.8-2.07 0-2.86zM5.41 20L4 18.59l7.72-7.72 1.47 1.35L5.41 20z\"/>\n",
              "  </svg>\n",
              "      </button>\n",
              "\n",
              "\n",
              "\n",
              "    <div id=\"df-f8bd5c8e-4753-4299-8a73-846d9ff79fee\">\n",
              "      <button class=\"colab-df-quickchart\" onclick=\"quickchart('df-f8bd5c8e-4753-4299-8a73-846d9ff79fee')\"\n",
              "              title=\"Suggest charts.\"\n",
              "              style=\"display:none;\">\n",
              "\n",
              "<svg xmlns=\"http://www.w3.org/2000/svg\" height=\"24px\"viewBox=\"0 0 24 24\"\n",
              "     width=\"24px\">\n",
              "    <g>\n",
              "        <path d=\"M19 3H5c-1.1 0-2 .9-2 2v14c0 1.1.9 2 2 2h14c1.1 0 2-.9 2-2V5c0-1.1-.9-2-2-2zM9 17H7v-7h2v7zm4 0h-2V7h2v10zm4 0h-2v-4h2v4z\"/>\n",
              "    </g>\n",
              "</svg>\n",
              "      </button>\n",
              "    </div>\n",
              "\n",
              "<style>\n",
              "  .colab-df-quickchart {\n",
              "    background-color: #E8F0FE;\n",
              "    border: none;\n",
              "    border-radius: 50%;\n",
              "    cursor: pointer;\n",
              "    display: none;\n",
              "    fill: #1967D2;\n",
              "    height: 32px;\n",
              "    padding: 0 0 0 0;\n",
              "    width: 32px;\n",
              "  }\n",
              "\n",
              "  .colab-df-quickchart:hover {\n",
              "    background-color: #E2EBFA;\n",
              "    box-shadow: 0px 1px 2px rgba(60, 64, 67, 0.3), 0px 1px 3px 1px rgba(60, 64, 67, 0.15);\n",
              "    fill: #174EA6;\n",
              "  }\n",
              "\n",
              "  [theme=dark] .colab-df-quickchart {\n",
              "    background-color: #3B4455;\n",
              "    fill: #D2E3FC;\n",
              "  }\n",
              "\n",
              "  [theme=dark] .colab-df-quickchart:hover {\n",
              "    background-color: #434B5C;\n",
              "    box-shadow: 0px 1px 3px 1px rgba(0, 0, 0, 0.15);\n",
              "    filter: drop-shadow(0px 1px 2px rgba(0, 0, 0, 0.3));\n",
              "    fill: #FFFFFF;\n",
              "  }\n",
              "</style>\n",
              "\n",
              "    <script>\n",
              "      async function quickchart(key) {\n",
              "        const containerElement = document.querySelector('#' + key);\n",
              "        const charts = await google.colab.kernel.invokeFunction(\n",
              "            'suggestCharts', [key], {});\n",
              "      }\n",
              "    </script>\n",
              "\n",
              "      <script>\n",
              "\n",
              "function displayQuickchartButton(domScope) {\n",
              "  let quickchartButtonEl =\n",
              "    domScope.querySelector('#df-f8bd5c8e-4753-4299-8a73-846d9ff79fee button.colab-df-quickchart');\n",
              "  quickchartButtonEl.style.display =\n",
              "    google.colab.kernel.accessAllowed ? 'block' : 'none';\n",
              "}\n",
              "\n",
              "        displayQuickchartButton(document);\n",
              "      </script>\n",
              "      <style>\n",
              "    .colab-df-container {\n",
              "      display:flex;\n",
              "      flex-wrap:wrap;\n",
              "      gap: 12px;\n",
              "    }\n",
              "\n",
              "    .colab-df-convert {\n",
              "      background-color: #E8F0FE;\n",
              "      border: none;\n",
              "      border-radius: 50%;\n",
              "      cursor: pointer;\n",
              "      display: none;\n",
              "      fill: #1967D2;\n",
              "      height: 32px;\n",
              "      padding: 0 0 0 0;\n",
              "      width: 32px;\n",
              "    }\n",
              "\n",
              "    .colab-df-convert:hover {\n",
              "      background-color: #E2EBFA;\n",
              "      box-shadow: 0px 1px 2px rgba(60, 64, 67, 0.3), 0px 1px 3px 1px rgba(60, 64, 67, 0.15);\n",
              "      fill: #174EA6;\n",
              "    }\n",
              "\n",
              "    [theme=dark] .colab-df-convert {\n",
              "      background-color: #3B4455;\n",
              "      fill: #D2E3FC;\n",
              "    }\n",
              "\n",
              "    [theme=dark] .colab-df-convert:hover {\n",
              "      background-color: #434B5C;\n",
              "      box-shadow: 0px 1px 3px 1px rgba(0, 0, 0, 0.15);\n",
              "      filter: drop-shadow(0px 1px 2px rgba(0, 0, 0, 0.3));\n",
              "      fill: #FFFFFF;\n",
              "    }\n",
              "  </style>\n",
              "\n",
              "      <script>\n",
              "        const buttonEl =\n",
              "          document.querySelector('#df-bef1275b-af60-4dc1-8f93-a4a844f3449b button.colab-df-convert');\n",
              "        buttonEl.style.display =\n",
              "          google.colab.kernel.accessAllowed ? 'block' : 'none';\n",
              "\n",
              "        async function convertToInteractive(key) {\n",
              "          const element = document.querySelector('#df-bef1275b-af60-4dc1-8f93-a4a844f3449b');\n",
              "          const dataTable =\n",
              "            await google.colab.kernel.invokeFunction('convertToInteractive',\n",
              "                                                     [key], {});\n",
              "          if (!dataTable) return;\n",
              "\n",
              "          const docLinkHtml = 'Like what you see? Visit the ' +\n",
              "            '<a target=\"_blank\" href=https://colab.research.google.com/notebooks/data_table.ipynb>data table notebook</a>'\n",
              "            + ' to learn more about interactive tables.';\n",
              "          element.innerHTML = '';\n",
              "          dataTable['output_type'] = 'display_data';\n",
              "          await google.colab.output.renderOutput(dataTable, element);\n",
              "          const docLink = document.createElement('div');\n",
              "          docLink.innerHTML = docLinkHtml;\n",
              "          element.appendChild(docLink);\n",
              "        }\n",
              "      </script>\n",
              "    </div>\n",
              "  </div>\n"
            ]
          },
          "metadata": {},
          "execution_count": 29
        }
      ],
      "source": [
        "df.describe()"
      ]
    },
    {
      "cell_type": "code",
      "execution_count": null,
      "metadata": {
        "id": "fhjUphw2Mt4M"
      },
      "outputs": [],
      "source": [
        "Temp = Temp2011\n",
        "previousBuiltup = builtup_11_12\n",
        "Y_array = Subtracted_Urban_21_11\n",
        "\n",
        "df_eval = pd.DataFrame({\n",
        "    'Slope': Slope.flatten(),\n",
        "    'Elevation': Elevation.flatten(),\n",
        "    'PopDen': popden.flatten(),\n",
        "    'Friction': Friction.flatten(),\n",
        "    'Floods': floods.flatten(),\n",
        "    'Accessibility': accessibility.flatten(),\n",
        "    'GDP': gdp.flatten(),\n",
        "    'Previous_builtup': previousBuiltup.flatten(),\n",
        "    'Temp':Temp.flatten(),\n",
        "    'Y': Y_array.flatten(),\n",
        "})\n",
        "X_eval = df_eval.drop('Y', axis=1)\n",
        "Y_eval = df_eval['Y']"
      ]
    },
    {
      "cell_type": "code",
      "execution_count": null,
      "metadata": {
        "id": "lF4Cti7zEAil"
      },
      "outputs": [],
      "source": [
        "# X_train, X_test, y_train, y_test = train_test_split(X, Y, random_state=0, train_size = .80)\n",
        "evalset=[(X_eval,Y_eval)]"
      ]
    },
    {
      "cell_type": "code",
      "execution_count": null,
      "metadata": {
        "id": "M-mLRLeZN62g",
        "colab": {
          "base_uri": "https://localhost:8080/"
        },
        "outputId": "c10d40dc-b4d2-49bb-d249-3ea31c3d0b86"
      },
      "outputs": [
        {
          "output_type": "stream",
          "name": "stdout",
          "text": [
            "[0]\tvalidation_0-rmse:0.35991\n",
            "[1]\tvalidation_0-rmse:0.26560\n",
            "[2]\tvalidation_0-rmse:0.20398\n",
            "[3]\tvalidation_0-rmse:0.16568\n",
            "[4]\tvalidation_0-rmse:0.14350\n",
            "[5]\tvalidation_0-rmse:0.13139\n",
            "[6]\tvalidation_0-rmse:0.12549\n",
            "[7]\tvalidation_0-rmse:0.12333\n",
            "[8]\tvalidation_0-rmse:0.12163\n",
            "[9]\tvalidation_0-rmse:0.12092\n",
            "[10]\tvalidation_0-rmse:0.12053\n",
            "[11]\tvalidation_0-rmse:0.12045\n",
            "[12]\tvalidation_0-rmse:0.12055\n",
            "[13]\tvalidation_0-rmse:0.12069\n",
            "[14]\tvalidation_0-rmse:0.12106\n",
            "[15]\tvalidation_0-rmse:0.12147\n",
            "[16]\tvalidation_0-rmse:0.12163\n",
            "[17]\tvalidation_0-rmse:0.12183\n",
            "[18]\tvalidation_0-rmse:0.12193\n",
            "[19]\tvalidation_0-rmse:0.12225\n",
            "[20]\tvalidation_0-rmse:0.12243\n",
            "[21]\tvalidation_0-rmse:0.12262\n",
            "[22]\tvalidation_0-rmse:0.12312\n",
            "[23]\tvalidation_0-rmse:0.12316\n",
            "[24]\tvalidation_0-rmse:0.12324\n",
            "[25]\tvalidation_0-rmse:0.12354\n",
            "[26]\tvalidation_0-rmse:0.12389\n",
            "[27]\tvalidation_0-rmse:0.12392\n",
            "[28]\tvalidation_0-rmse:0.12410\n",
            "[29]\tvalidation_0-rmse:0.12423\n",
            "[30]\tvalidation_0-rmse:0.12450\n",
            "[31]\tvalidation_0-rmse:0.12469\n",
            "[32]\tvalidation_0-rmse:0.12477\n",
            "[33]\tvalidation_0-rmse:0.12499\n",
            "[34]\tvalidation_0-rmse:0.12505\n",
            "[35]\tvalidation_0-rmse:0.12519\n",
            "[36]\tvalidation_0-rmse:0.12528\n",
            "[37]\tvalidation_0-rmse:0.12546\n",
            "[38]\tvalidation_0-rmse:0.12545\n",
            "[39]\tvalidation_0-rmse:0.12557\n",
            "[40]\tvalidation_0-rmse:0.12567\n",
            "[41]\tvalidation_0-rmse:0.12572\n",
            "[42]\tvalidation_0-rmse:0.12575\n",
            "[43]\tvalidation_0-rmse:0.12574\n",
            "[44]\tvalidation_0-rmse:0.12581\n",
            "[45]\tvalidation_0-rmse:0.12594\n",
            "[46]\tvalidation_0-rmse:0.12594\n",
            "[47]\tvalidation_0-rmse:0.12610\n",
            "[48]\tvalidation_0-rmse:0.12658\n",
            "[49]\tvalidation_0-rmse:0.12661\n",
            "[50]\tvalidation_0-rmse:0.12698\n",
            "[51]\tvalidation_0-rmse:0.12705\n",
            "[52]\tvalidation_0-rmse:0.12711\n",
            "[53]\tvalidation_0-rmse:0.12711\n",
            "[54]\tvalidation_0-rmse:0.12730\n",
            "[55]\tvalidation_0-rmse:0.12739\n",
            "[56]\tvalidation_0-rmse:0.12745\n",
            "[57]\tvalidation_0-rmse:0.12757\n",
            "[58]\tvalidation_0-rmse:0.12766\n",
            "[59]\tvalidation_0-rmse:0.12775\n",
            "[60]\tvalidation_0-rmse:0.12781\n",
            "[61]\tvalidation_0-rmse:0.12790\n",
            "[62]\tvalidation_0-rmse:0.12818\n",
            "[63]\tvalidation_0-rmse:0.12833\n",
            "[64]\tvalidation_0-rmse:0.12835\n",
            "[65]\tvalidation_0-rmse:0.12846\n",
            "[66]\tvalidation_0-rmse:0.12850\n",
            "[67]\tvalidation_0-rmse:0.12855\n",
            "[68]\tvalidation_0-rmse:0.12866\n",
            "[69]\tvalidation_0-rmse:0.12871\n",
            "[70]\tvalidation_0-rmse:0.12873\n",
            "[71]\tvalidation_0-rmse:0.12884\n",
            "[72]\tvalidation_0-rmse:0.12906\n",
            "[73]\tvalidation_0-rmse:0.12909\n",
            "[74]\tvalidation_0-rmse:0.12915\n",
            "[75]\tvalidation_0-rmse:0.12925\n",
            "[76]\tvalidation_0-rmse:0.12931\n",
            "[77]\tvalidation_0-rmse:0.12940\n",
            "[78]\tvalidation_0-rmse:0.12939\n",
            "[79]\tvalidation_0-rmse:0.12959\n",
            "[80]\tvalidation_0-rmse:0.12968\n",
            "[81]\tvalidation_0-rmse:0.12977\n",
            "[82]\tvalidation_0-rmse:0.12987\n",
            "[83]\tvalidation_0-rmse:0.12994\n",
            "[84]\tvalidation_0-rmse:0.12997\n",
            "[85]\tvalidation_0-rmse:0.13004\n",
            "[86]\tvalidation_0-rmse:0.13006\n",
            "[87]\tvalidation_0-rmse:0.13010\n",
            "[88]\tvalidation_0-rmse:0.13019\n",
            "[89]\tvalidation_0-rmse:0.13022\n",
            "[90]\tvalidation_0-rmse:0.13005\n",
            "[91]\tvalidation_0-rmse:0.13004\n",
            "[92]\tvalidation_0-rmse:0.13010\n",
            "[93]\tvalidation_0-rmse:0.13011\n",
            "[94]\tvalidation_0-rmse:0.13013\n",
            "[95]\tvalidation_0-rmse:0.13014\n",
            "[96]\tvalidation_0-rmse:0.13024\n",
            "[97]\tvalidation_0-rmse:0.13027\n",
            "[98]\tvalidation_0-rmse:0.13029\n",
            "[99]\tvalidation_0-rmse:0.13040\n"
          ]
        }
      ],
      "source": [
        "params = {\n",
        "            'max_depth': 6,\n",
        "            'learning_rate': .3,\n",
        "            'eval_metric':'rmse',\n",
        "            'tree_method':'gpu_hist',\n",
        "        }\n",
        "xgb_model=XGBRegressor(**params)\n",
        "model=xgb_model.fit(X,Y, eval_set=evalset, verbose=True)"
      ]
    },
    {
      "cell_type": "markdown",
      "metadata": {
        "id": "1DWdLct2ymhR"
      },
      "source": [
        "Import some metrics and checking models' score"
      ]
    },
    {
      "cell_type": "code",
      "execution_count": null,
      "metadata": {
        "colab": {
          "base_uri": "https://localhost:8080/",
          "height": 485
        },
        "id": "HKFIhp8_UkWi",
        "outputId": "a25ccd24-19ed-4f1b-b77d-5c0e726b468f"
      },
      "outputs": [
        {
          "output_type": "execute_result",
          "data": {
            "text/plain": [
              "<Axes: title={'center': 'Feature importance'}, xlabel='F score', ylabel='Features'>"
            ]
          },
          "metadata": {},
          "execution_count": 33
        },
        {
          "output_type": "display_data",
          "data": {
            "text/plain": [
              "<Figure size 640x480 with 1 Axes>"
            ],
            "image/png": "[encoded data removed]"
          },
          "metadata": {}
        }
      ],
      "source": [
        "from xgboost import plot_importance\n",
        "plot_importance(xgb_model)"
      ]
    },
    {
      "cell_type": "code",
      "execution_count": null,
      "metadata": {
        "id": "zNHWhmf5t4gi"
      },
      "outputs": [],
      "source": [
        "# threshold = 0.5\n",
        "# y_pred = model.predict(X)\n",
        "# y_pred = np.clip(y_pred, 0, 1)\n",
        "# y_pred = np.where(y_pred >= threshold, 1, 0)\n",
        "\n",
        "# y_test = y_test.astype(int)"
      ]
    },
    {
      "cell_type": "code",
      "execution_count": null,
      "metadata": {
        "id": "cbRgg17TUZ8C"
      },
      "outputs": [],
      "source": [
        "# from sklearn.metrics import precision_score, recall_score, accuracy_score, f1_score\n",
        "# from sklearn.metrics import mean_squared_error as MSE\n",
        "\n",
        "# print(\"f1_score = {}\".format(f1_score(y_test, y_pred, average='macro')))\n",
        "# print(\"Precision = {}\".format(precision_score(y_test, y_pred, average='macro')))\n",
        "# print(\"Recall = {}\".format(recall_score(y_test, y_pred, average='macro')))\n",
        "# print(\"Accuracy = {}\".format(accuracy_score(y_test, y_pred)))\n",
        "# print(\"RMSE = {}\".format(np.sqrt(MSE(y_test, y_pred))))"
      ]
    },
    {
      "cell_type": "code",
      "execution_count": null,
      "metadata": {
        "id": "obY2qmk2WJPw"
      },
      "outputs": [],
      "source": [
        "def write_geotiff(filename, arr1,in_ds):\n",
        "    if arr1.dtype == np.float32:\n",
        "        arr_type = gdal.GDT_Float32\n",
        "    else:\n",
        "        arr_type = gdal.GDT_Int32\n",
        "\n",
        "    driver = gdal.GetDriverByName(\"GTiff\")\n",
        "    out_ds = driver.Create(filename, arr1.shape[1], arr1.shape[0], 1, arr_type)\n",
        "    out_ds.SetProjection(in_ds.GetProjection())\n",
        "    out_ds.SetGeoTransform(in_ds.GetGeoTransform())\n",
        "    band = out_ds.GetRasterBand(1)\n",
        "    band.WriteArray(arr1)\n",
        "    # band = out_ds.GetRasterBand(2)\n",
        "    # band.WriteArray(arr2)\n",
        "\n",
        "    band.FlushCache()\n",
        "    band.ComputeStatistics(False)"
      ]
    },
    {
      "cell_type": "code",
      "source": [
        "def predictionMap(Temp, previousBuiltup, previousBuiltupGdalData ,threshold , showMaps=False, exportMaps=False ,actualSubtractedMap=None):\n",
        "\n",
        "  df = pd.DataFrame({\n",
        "      'Slope': Slope.flatten(),\n",
        "      'Elevation': Elevation.flatten(),\n",
        "      'PopDen': popden.flatten(),\n",
        "      'Friction': Friction.flatten(),\n",
        "      'Floods': floods.flatten(),\n",
        "      'Accessibility': accessibility.flatten(),\n",
        "      'GDP': gdp.flatten(),\n",
        "      'Previous_builtup': previousBuiltup.flatten(),\n",
        "      'Temp':Temp.flatten(),\n",
        "  })\n",
        "\n",
        "  y_prediction = model.predict(X)\n",
        "\n",
        "\n",
        "  if(actualSubtractedMap):\n",
        "    y_prediction_for_test = np.clip(y_prediction, 0, 1)\n",
        "    y_prediction_for_test = np.where(y_prediction_for_test >= threshold, 1, 0)\n",
        "    y_prediction_for_test = y_prediction_for_test.astype(int)\n",
        "\n",
        "    print(\"f1_score = {}\".format(f1_score(actualSubtractedMap, y_prediction_for_test, average='macro')))\n",
        "    print(\"Precision = {}\".format(precision_score(actualSubtractedMap, y_prediction_for_test, average='macro')))\n",
        "    print(\"Recall = {}\".format(recall_score(actualSubtractedMap, y_prediction_for_test, average='macro')))\n",
        "    print(\"Accuracy = {}\".format(accuracy_score(actualSubtractedMap, y_prediction_for_test)))\n",
        "    print(\"RMSE = {}\".format(np.sqrt(MSE(actualSubtractedMap, y_prediction_for_test))))\n",
        "\n",
        "  if(showMaps):\n",
        "    fig, axes = plt.subplots(1, 1, figsize=(10, 3))\n",
        "    sns.heatmap(ax=axes[0], data=np.reshape(y_prediction,(l,w)).astype(np.float32), cmap=\"crest\").set_title('Kamrup Urbanisation Zones Predicted')\n",
        "\n",
        "  y_prediction = np.clip(y_prediction, 0, 1)\n",
        "\n",
        "  if(exportMaps):\n",
        "    write_geotiff('2020_predicted.tiff',np.reshape(y_prediction,(l,w)),previousBuiltupGdalData)\n"
      ],
      "metadata": {
        "id": "AKYFCcHOSGWJ"
      },
      "execution_count": null,
      "outputs": []
    },
    {
      "cell_type": "code",
      "source": [
        "predictionMap(Temp2020 , builtup_20_21 , Subtracted_Urban_21_11_data , 0.5, showMaps=False, exportMaps=False)"
      ],
      "metadata": {
        "id": "fUUmq17vTtN6"
      },
      "execution_count": null,
      "outputs": []
    },
    {
      "cell_type": "code",
      "execution_count": null,
      "metadata": {
        "id": "WIm1nZqBx7FH"
      },
      "outputs": [],
      "source": [
        "from sklearn.model_selection import GridSearchCV\n",
        "\n",
        "clf = XGBRegressor()\n",
        "parameters = {\n",
        "     \"eta\"    : [ .01 ,0.05, 0.10, 0.30],\n",
        "     \"max_depth\"        : [ 5, 6, 8, 10],\n",
        "     \"min_child_weight\" : [ 1, 3, 5 ],\n",
        "    #  \"gamma\"            : [ 0.0, 0.1, 0.2 , 0.3, 0.4 ],\n",
        "    #  \"colsample_bytree\" : [ 0.3, 0.4, 0.5 , 0.7 ],\n",
        "    #  \"n_estimators\"     : [10, 20, 30],\n",
        "      'eval_metric':['rmse'],\n",
        "     'tree_method':['gpu_hist'],\n",
        "     }\n",
        "\n",
        "grid = GridSearchCV(clf, parameters, n_jobs=5, cv=3, verbose=4)"
      ]
    },
    {
      "cell_type": "code",
      "execution_count": null,
      "metadata": {
        "id": "dfXdBtdyx_fq",
        "colab": {
          "base_uri": "https://localhost:8080/",
          "height": 390
        },
        "outputId": "e6ae567f-876f-48d9-86bb-9a43ac52d042"
      },
      "outputs": [
        {
          "output_type": "stream",
          "name": "stdout",
          "text": [
            "Fitting 3 folds for each of 48 candidates, totalling 144 fits\n"
          ]
        },
        {
          "output_type": "stream",
          "name": "stderr",
          "text": [
            "/usr/local/lib/python3.10/dist-packages/joblib/externals/loky/process_executor.py:752: UserWarning: A worker stopped while some jobs were given to the executor. This can be caused by a too short worker timeout or by a memory leak.\n",
            "  warnings.warn(\n"
          ]
        },
        {
          "output_type": "execute_result",
          "data": {
            "text/plain": [
              "GridSearchCV(cv=3,\n",
              "             estimator=XGBRegressor(base_score=None, booster=None,\n",
              "                                    callbacks=None, colsample_bylevel=None,\n",
              "                                    colsample_bynode=None,\n",
              "                                    colsample_bytree=None,\n",
              "                                    early_stopping_rounds=None,\n",
              "                                    enable_categorical=False, eval_metric=None,\n",
              "                                    feature_types=None, gamma=None, gpu_id=None,\n",
              "                                    grow_policy=None, importance_type=None,\n",
              "                                    interaction_constraints=None,\n",
              "                                    learning_rate=None, m...\n",
              "                                    max_cat_to_onehot=None, max_delta_step=None,\n",
              "                                    max_depth=None, max_leaves=None,\n",
              "                                    min_child_weight=None, missing=nan,\n",
              "                                    monotone_constraints=None, n_estimators=100,\n",
              "                                    n_jobs=None, num_parallel_tree=None,\n",
              "                                    predictor=None, random_state=None, ...),\n",
              "             n_jobs=5,\n",
              "             param_grid={'eta': [0.01, 0.05, 0.1, 0.3], 'eval_metric': ['rmse'],\n",
              "                         'max_depth': [5, 6, 8, 10],\n",
              "                         'min_child_weight': [1, 3, 5],\n",
              "                         'tree_method': ['gpu_hist']},\n",
              "             verbose=4)"
            ],
            "text/html": [
              "<style>#sk-container-id-2 {color: black;background-color: white;}#sk-container-id-2 pre{padding: 0;}#sk-container-id-2 div.sk-toggleable {background-color: white;}#sk-container-id-2 label.sk-toggleable__label {cursor: pointer;display: block;width: 100%;margin-bottom: 0;padding: 0.3em;box-sizing: border-box;text-align: center;}#sk-container-id-2 label.sk-toggleable__label-arrow:before {content: \"▸\";float: left;margin-right: 0.25em;color: #696969;}#sk-container-id-2 label.sk-toggleable__label-arrow:hover:before {color: black;}#sk-container-id-2 div.sk-estimator:hover label.sk-toggleable__label-arrow:before {color: black;}#sk-container-id-2 div.sk-toggleable__content {max-height: 0;max-width: 0;overflow: hidden;text-align: left;background-color: #f0f8ff;}#sk-container-id-2 div.sk-toggleable__content pre {margin: 0.2em;color: black;border-radius: 0.25em;background-color: #f0f8ff;}#sk-container-id-2 input.sk-toggleable__control:checked~div.sk-toggleable__content {max-height: 200px;max-width: 100%;overflow: auto;}#sk-container-id-2 input.sk-toggleable__control:checked~label.sk-toggleable__label-arrow:before {content: \"▾\";}#sk-container-id-2 div.sk-estimator input.sk-toggleable__control:checked~label.sk-toggleable__label {background-color: #d4ebff;}#sk-container-id-2 div.sk-label input.sk-toggleable__control:checked~label.sk-toggleable__label {background-color: #d4ebff;}#sk-container-id-2 input.sk-hidden--visually {border: 0;clip: rect(1px 1px 1px 1px);clip: rect(1px, 1px, 1px, 1px);height: 1px;margin: -1px;overflow: hidden;padding: 0;position: absolute;width: 1px;}#sk-container-id-2 div.sk-estimator {font-family: monospace;background-color: #f0f8ff;border: 1px dotted black;border-radius: 0.25em;box-sizing: border-box;margin-bottom: 0.5em;}#sk-container-id-2 div.sk-estimator:hover {background-color: #d4ebff;}#sk-container-id-2 div.sk-parallel-item::after {content: \"\";width: 100%;border-bottom: 1px solid gray;flex-grow: 1;}#sk-container-id-2 div.sk-label:hover label.sk-toggleable__label {background-color: #d4ebff;}#sk-container-id-2 div.sk-serial::before {content: \"\";position: absolute;border-left: 1px solid gray;box-sizing: border-box;top: 0;bottom: 0;left: 50%;z-index: 0;}#sk-container-id-2 div.sk-serial {display: flex;flex-direction: column;align-items: center;background-color: white;padding-right: 0.2em;padding-left: 0.2em;position: relative;}#sk-container-id-2 div.sk-item {position: relative;z-index: 1;}#sk-container-id-2 div.sk-parallel {display: flex;align-items: stretch;justify-content: center;background-color: white;position: relative;}#sk-container-id-2 div.sk-item::before, #sk-container-id-2 div.sk-parallel-item::before {content: \"\";position: absolute;border-left: 1px solid gray;box-sizing: border-box;top: 0;bottom: 0;left: 50%;z-index: -1;}#sk-container-id-2 div.sk-parallel-item {display: flex;flex-direction: column;z-index: 1;position: relative;background-color: white;}#sk-container-id-2 div.sk-parallel-item:first-child::after {align-self: flex-end;width: 50%;}#sk-container-id-2 div.sk-parallel-item:last-child::after {align-self: flex-start;width: 50%;}#sk-container-id-2 div.sk-parallel-item:only-child::after {width: 0;}#sk-container-id-2 div.sk-dashed-wrapped {border: 1px dashed gray;margin: 0 0.4em 0.5em 0.4em;box-sizing: border-box;padding-bottom: 0.4em;background-color: white;}#sk-container-id-2 div.sk-label label {font-family: monospace;font-weight: bold;display: inline-block;line-height: 1.2em;}#sk-container-id-2 div.sk-label-container {text-align: center;}#sk-container-id-2 div.sk-container {/* jupyter's `normalize.less` sets `[hidden] { display: none; }` but bootstrap.min.css set `[hidden] { display: none !important; }` so we also need the `!important` here to be able to override the default hidden behavior on the sphinx rendered scikit-learn.org. See: https://github.com/scikit-learn/scikit-learn/issues/21755 */display: inline-block !important;position: relative;}#sk-container-id-2 div.sk-text-repr-fallback {display: none;}</style><div id=\"sk-container-id-2\" class=\"sk-top-container\"><div class=\"sk-text-repr-fallback\"><pre>GridSearchCV(cv=3,\n",
              "             estimator=XGBRegressor(base_score=None, booster=None,\n",
              "                                    callbacks=None, colsample_bylevel=None,\n",
              "                                    colsample_bynode=None,\n",
              "                                    colsample_bytree=None,\n",
              "                                    early_stopping_rounds=None,\n",
              "                                    enable_categorical=False, eval_metric=None,\n",
              "                                    feature_types=None, gamma=None, gpu_id=None,\n",
              "                                    grow_policy=None, importance_type=None,\n",
              "                                    interaction_constraints=None,\n",
              "                                    learning_rate=None, m...\n",
              "                                    max_cat_to_onehot=None, max_delta_step=None,\n",
              "                                    max_depth=None, max_leaves=None,\n",
              "                                    min_child_weight=None, missing=nan,\n",
              "                                    monotone_constraints=None, n_estimators=100,\n",
              "                                    n_jobs=None, num_parallel_tree=None,\n",
              "                                    predictor=None, random_state=None, ...),\n",
              "             n_jobs=5,\n",
              "             param_grid={&#x27;eta&#x27;: [0.01, 0.05, 0.1, 0.3], &#x27;eval_metric&#x27;: [&#x27;rmse&#x27;],\n",
              "                         &#x27;max_depth&#x27;: [5, 6, 8, 10],\n",
              "                         &#x27;min_child_weight&#x27;: [1, 3, 5],\n",
              "                         &#x27;tree_method&#x27;: [&#x27;gpu_hist&#x27;]},\n",
              "             verbose=4)</pre><b>In a Jupyter environment, please rerun this cell to show the HTML representation or trust the notebook. <br />On GitHub, the HTML representation is unable to render, please try loading this page with nbviewer.org.</b></div><div class=\"sk-container\" hidden><div class=\"sk-item sk-dashed-wrapped\"><div class=\"sk-label-container\"><div class=\"sk-label sk-toggleable\"><input class=\"sk-toggleable__control sk-hidden--visually\" id=\"sk-estimator-id-4\" type=\"checkbox\" ><label for=\"sk-estimator-id-4\" class=\"sk-toggleable__label sk-toggleable__label-arrow\">GridSearchCV</label><div class=\"sk-toggleable__content\"><pre>GridSearchCV(cv=3,\n",
              "             estimator=XGBRegressor(base_score=None, booster=None,\n",
              "                                    callbacks=None, colsample_bylevel=None,\n",
              "                                    colsample_bynode=None,\n",
              "                                    colsample_bytree=None,\n",
              "                                    early_stopping_rounds=None,\n",
              "                                    enable_categorical=False, eval_metric=None,\n",
              "                                    feature_types=None, gamma=None, gpu_id=None,\n",
              "                                    grow_policy=None, importance_type=None,\n",
              "                                    interaction_constraints=None,\n",
              "                                    learning_rate=None, m...\n",
              "                                    max_cat_to_onehot=None, max_delta_step=None,\n",
              "                                    max_depth=None, max_leaves=None,\n",
              "                                    min_child_weight=None, missing=nan,\n",
              "                                    monotone_constraints=None, n_estimators=100,\n",
              "                                    n_jobs=None, num_parallel_tree=None,\n",
              "                                    predictor=None, random_state=None, ...),\n",
              "             n_jobs=5,\n",
              "             param_grid={&#x27;eta&#x27;: [0.01, 0.05, 0.1, 0.3], &#x27;eval_metric&#x27;: [&#x27;rmse&#x27;],\n",
              "                         &#x27;max_depth&#x27;: [5, 6, 8, 10],\n",
              "                         &#x27;min_child_weight&#x27;: [1, 3, 5],\n",
              "                         &#x27;tree_method&#x27;: [&#x27;gpu_hist&#x27;]},\n",
              "             verbose=4)</pre></div></div></div><div class=\"sk-parallel\"><div class=\"sk-parallel-item\"><div class=\"sk-item\"><div class=\"sk-label-container\"><div class=\"sk-label sk-toggleable\"><input class=\"sk-toggleable__control sk-hidden--visually\" id=\"sk-estimator-id-5\" type=\"checkbox\" ><label for=\"sk-estimator-id-5\" class=\"sk-toggleable__label sk-toggleable__label-arrow\">estimator: XGBRegressor</label><div class=\"sk-toggleable__content\"><pre>XGBRegressor(base_score=None, booster=None, callbacks=None,\n",
              "             colsample_bylevel=None, colsample_bynode=None,\n",
              "             colsample_bytree=None, early_stopping_rounds=None,\n",
              "             enable_categorical=False, eval_metric=None, feature_types=None,\n",
              "             gamma=None, gpu_id=None, grow_policy=None, importance_type=None,\n",
              "             interaction_constraints=None, learning_rate=None, max_bin=None,\n",
              "             max_cat_threshold=None, max_cat_to_onehot=None,\n",
              "             max_delta_step=None, max_depth=None, max_leaves=None,\n",
              "             min_child_weight=None, missing=nan, monotone_constraints=None,\n",
              "             n_estimators=100, n_jobs=None, num_parallel_tree=None,\n",
              "             predictor=None, random_state=None, ...)</pre></div></div></div><div class=\"sk-serial\"><div class=\"sk-item\"><div class=\"sk-estimator sk-toggleable\"><input class=\"sk-toggleable__control sk-hidden--visually\" id=\"sk-estimator-id-6\" type=\"checkbox\" ><label for=\"sk-estimator-id-6\" class=\"sk-toggleable__label sk-toggleable__label-arrow\">XGBRegressor</label><div class=\"sk-toggleable__content\"><pre>XGBRegressor(base_score=None, booster=None, callbacks=None,\n",
              "             colsample_bylevel=None, colsample_bynode=None,\n",
              "             colsample_bytree=None, early_stopping_rounds=None,\n",
              "             enable_categorical=False, eval_metric=None, feature_types=None,\n",
              "             gamma=None, gpu_id=None, grow_policy=None, importance_type=None,\n",
              "             interaction_constraints=None, learning_rate=None, max_bin=None,\n",
              "             max_cat_threshold=None, max_cat_to_onehot=None,\n",
              "             max_delta_step=None, max_depth=None, max_leaves=None,\n",
              "             min_child_weight=None, missing=nan, monotone_constraints=None,\n",
              "             n_estimators=100, n_jobs=None, num_parallel_tree=None,\n",
              "             predictor=None, random_state=None, ...)</pre></div></div></div></div></div></div></div></div></div></div>"
            ]
          },
          "metadata": {},
          "execution_count": 44
        }
      ],
      "source": [
        "grid.fit(X, Y)"
      ]
    },
    {
      "cell_type": "code",
      "source": [
        "grid.best_params_"
      ],
      "metadata": {
        "colab": {
          "base_uri": "https://localhost:8080/"
        },
        "id": "5gOFMWqAjBG9",
        "outputId": "b5074172-15d9-4b5d-be36-122fb821d022"
      },
      "execution_count": null,
      "outputs": [
        {
          "output_type": "execute_result",
          "data": {
            "text/plain": [
              "{'eta': 0.05,\n",
              " 'eval_metric': 'rmse',\n",
              " 'max_depth': 5,\n",
              " 'min_child_weight': 1,\n",
              " 'tree_method': 'gpu_hist'}"
            ]
          },
          "metadata": {},
          "execution_count": 45
        }
      ]
    }
  ],
  "metadata": {
    "accelerator": "GPU",
    "colab": {
      "provenance": [],
      "include_colab_link": true
    },
    "kernelspec": {
      "display_name": "Python 3",
      "name": "python3"
    },
    "language_info": {
      "name": "python"
    }
  },
  "nbformat": 4,
  "nbformat_minor": 0
}